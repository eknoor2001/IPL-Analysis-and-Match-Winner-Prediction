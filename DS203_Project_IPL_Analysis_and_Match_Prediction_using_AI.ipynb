{
  "nbformat": 4,
  "nbformat_minor": 0,
  "metadata": {
    "colab": {
      "name": "DS203 Project IPL Analysis and Match Prediction using AI.ipynb",
      "provenance": [],
      "collapsed_sections": [
        "kGiRd1SMIu1X",
        "fNcqbFfyI0Rm",
        "fZQemN87JYqY",
        "rn0fcNk8K0bn",
        "5TJSH_OJQAm9",
        "kzkAEjeaQxNU",
        "gOl2tLVkRF6b",
        "SA2RpqU8RcvW",
        "EcfI5B7nRl-L",
        "F5A_bjoxSB2_",
        "_UnqNtQ0SWmF",
        "sZWqUTb4Sok1",
        "PX-Vy_aIS5RR",
        "2i-RqtIZTSv3",
        "_iLjNGVmUDDz",
        "KKHFWnnyUPF-",
        "DlQWw2fmUf3i",
        "hggKTcvQU7rf"
      ]
    },
    "kernelspec": {
      "display_name": "Python 3",
      "name": "python3"
    },
    "language_info": {
      "name": "python"
    }
  },
  "cells": [
    {
      "cell_type": "markdown",
      "metadata": {
        "id": "ShlRg5g8ObEo"
      },
      "source": [
        "\n",
        "# First Part (Analysis of IPL)"
      ]
    },
    {
      "cell_type": "markdown",
      "metadata": {
        "id": "kGiRd1SMIu1X"
      },
      "source": [
        "##Installing and Importing Required Libraries"
      ]
    },
    {
      "cell_type": "code",
      "metadata": {
        "colab": {
          "base_uri": "https://localhost:8080/"
        },
        "id": "MuSFgbfDIYsb",
        "outputId": "56031393-19d3-4ea3-c794-aeb003689b2a"
      },
      "source": [
        "#Geopandas installation\n",
        "\n",
        "# Important library for many geopython libraries\n",
        "!apt install gdal-bin python-gdal python3-gdal \n",
        "\n",
        "# Install rtree - Geopandas requirment\n",
        "!apt install python3-rtree \n",
        "\n",
        "# Install Geopandas\n",
        "!pip install git+git://github.com/geopandas/geopandas.git\n",
        "\n",
        "# Install descartes - Geopandas requirment\n",
        "!pip install descartes \n",
        "\n",
        "# Install Folium for Geographic data visualization\n",
        "!pip install folium\n",
        "\n",
        "# Install plotlyExpress\n",
        "!pip install plotly_express"
      ],
      "execution_count": null,
      "outputs": [
        {
          "output_type": "stream",
          "name": "stdout",
          "text": [
            "Reading package lists... Done\n",
            "Building dependency tree       \n",
            "Reading state information... Done\n",
            "gdal-bin is already the newest version (2.2.3+dfsg-2).\n",
            "python-gdal is already the newest version (2.2.3+dfsg-2).\n",
            "python3-gdal is already the newest version (2.2.3+dfsg-2).\n",
            "0 upgraded, 0 newly installed, 0 to remove and 37 not upgraded.\n",
            "Reading package lists... Done\n",
            "Building dependency tree       \n",
            "Reading state information... Done\n",
            "python3-rtree is already the newest version (0.8.3+ds-1).\n",
            "0 upgraded, 0 newly installed, 0 to remove and 37 not upgraded.\n",
            "Collecting git+git://github.com/geopandas/geopandas.git\n",
            "  Cloning git://github.com/geopandas/geopandas.git to /tmp/pip-req-build-dckpwjih\n",
            "  Running command git clone -q git://github.com/geopandas/geopandas.git /tmp/pip-req-build-dckpwjih\n",
            "Requirement already satisfied: pandas>=0.25.0 in /usr/local/lib/python3.7/dist-packages (from geopandas==0.10.2+10.ga5e6ca5) (1.1.5)\n",
            "Requirement already satisfied: shapely>=1.6 in /usr/local/lib/python3.7/dist-packages (from geopandas==0.10.2+10.ga5e6ca5) (1.8.0)\n",
            "Requirement already satisfied: fiona>=1.8 in /usr/local/lib/python3.7/dist-packages (from geopandas==0.10.2+10.ga5e6ca5) (1.8.20)\n",
            "Requirement already satisfied: pyproj>=2.2.0 in /usr/local/lib/python3.7/dist-packages (from geopandas==0.10.2+10.ga5e6ca5) (3.2.1)\n",
            "Requirement already satisfied: munch in /usr/local/lib/python3.7/dist-packages (from fiona>=1.8->geopandas==0.10.2+10.ga5e6ca5) (2.5.0)\n",
            "Requirement already satisfied: six>=1.7 in /usr/local/lib/python3.7/dist-packages (from fiona>=1.8->geopandas==0.10.2+10.ga5e6ca5) (1.15.0)\n",
            "Requirement already satisfied: click-plugins>=1.0 in /usr/local/lib/python3.7/dist-packages (from fiona>=1.8->geopandas==0.10.2+10.ga5e6ca5) (1.1.1)\n",
            "Requirement already satisfied: certifi in /usr/local/lib/python3.7/dist-packages (from fiona>=1.8->geopandas==0.10.2+10.ga5e6ca5) (2021.10.8)\n",
            "Requirement already satisfied: click>=4.0 in /usr/local/lib/python3.7/dist-packages (from fiona>=1.8->geopandas==0.10.2+10.ga5e6ca5) (7.1.2)\n",
            "Requirement already satisfied: cligj>=0.5 in /usr/local/lib/python3.7/dist-packages (from fiona>=1.8->geopandas==0.10.2+10.ga5e6ca5) (0.7.2)\n",
            "Requirement already satisfied: setuptools in /usr/local/lib/python3.7/dist-packages (from fiona>=1.8->geopandas==0.10.2+10.ga5e6ca5) (57.4.0)\n",
            "Requirement already satisfied: attrs>=17 in /usr/local/lib/python3.7/dist-packages (from fiona>=1.8->geopandas==0.10.2+10.ga5e6ca5) (21.2.0)\n",
            "Requirement already satisfied: numpy>=1.15.4 in /usr/local/lib/python3.7/dist-packages (from pandas>=0.25.0->geopandas==0.10.2+10.ga5e6ca5) (1.19.5)\n",
            "Requirement already satisfied: pytz>=2017.2 in /usr/local/lib/python3.7/dist-packages (from pandas>=0.25.0->geopandas==0.10.2+10.ga5e6ca5) (2018.9)\n",
            "Requirement already satisfied: python-dateutil>=2.7.3 in /usr/local/lib/python3.7/dist-packages (from pandas>=0.25.0->geopandas==0.10.2+10.ga5e6ca5) (2.8.2)\n",
            "Requirement already satisfied: descartes in /usr/local/lib/python3.7/dist-packages (1.1.0)\n",
            "Requirement already satisfied: matplotlib in /usr/local/lib/python3.7/dist-packages (from descartes) (3.2.2)\n",
            "Requirement already satisfied: pyparsing!=2.0.4,!=2.1.2,!=2.1.6,>=2.0.1 in /usr/local/lib/python3.7/dist-packages (from matplotlib->descartes) (3.0.6)\n",
            "Requirement already satisfied: numpy>=1.11 in /usr/local/lib/python3.7/dist-packages (from matplotlib->descartes) (1.19.5)\n",
            "Requirement already satisfied: kiwisolver>=1.0.1 in /usr/local/lib/python3.7/dist-packages (from matplotlib->descartes) (1.3.2)\n",
            "Requirement already satisfied: python-dateutil>=2.1 in /usr/local/lib/python3.7/dist-packages (from matplotlib->descartes) (2.8.2)\n",
            "Requirement already satisfied: cycler>=0.10 in /usr/local/lib/python3.7/dist-packages (from matplotlib->descartes) (0.11.0)\n",
            "Requirement already satisfied: six>=1.5 in /usr/local/lib/python3.7/dist-packages (from python-dateutil>=2.1->matplotlib->descartes) (1.15.0)\n",
            "Requirement already satisfied: folium in /usr/local/lib/python3.7/dist-packages (0.8.3)\n",
            "Requirement already satisfied: jinja2 in /usr/local/lib/python3.7/dist-packages (from folium) (2.11.3)\n",
            "Requirement already satisfied: six in /usr/local/lib/python3.7/dist-packages (from folium) (1.15.0)\n",
            "Requirement already satisfied: branca>=0.3.0 in /usr/local/lib/python3.7/dist-packages (from folium) (0.4.2)\n",
            "Requirement already satisfied: requests in /usr/local/lib/python3.7/dist-packages (from folium) (2.23.0)\n",
            "Requirement already satisfied: numpy in /usr/local/lib/python3.7/dist-packages (from folium) (1.19.5)\n",
            "Requirement already satisfied: MarkupSafe>=0.23 in /usr/local/lib/python3.7/dist-packages (from jinja2->folium) (2.0.1)\n",
            "Requirement already satisfied: urllib3!=1.25.0,!=1.25.1,<1.26,>=1.21.1 in /usr/local/lib/python3.7/dist-packages (from requests->folium) (1.24.3)\n",
            "Requirement already satisfied: idna<3,>=2.5 in /usr/local/lib/python3.7/dist-packages (from requests->folium) (2.10)\n",
            "Requirement already satisfied: certifi>=2017.4.17 in /usr/local/lib/python3.7/dist-packages (from requests->folium) (2021.10.8)\n",
            "Requirement already satisfied: chardet<4,>=3.0.2 in /usr/local/lib/python3.7/dist-packages (from requests->folium) (3.0.4)\n",
            "Requirement already satisfied: plotly_express in /usr/local/lib/python3.7/dist-packages (0.4.1)\n",
            "Requirement already satisfied: numpy>=1.11 in /usr/local/lib/python3.7/dist-packages (from plotly_express) (1.19.5)\n",
            "Requirement already satisfied: scipy>=0.18 in /usr/local/lib/python3.7/dist-packages (from plotly_express) (1.4.1)\n",
            "Requirement already satisfied: patsy>=0.5 in /usr/local/lib/python3.7/dist-packages (from plotly_express) (0.5.2)\n",
            "Requirement already satisfied: plotly>=4.1.0 in /usr/local/lib/python3.7/dist-packages (from plotly_express) (4.4.1)\n",
            "Requirement already satisfied: statsmodels>=0.9.0 in /usr/local/lib/python3.7/dist-packages (from plotly_express) (0.10.2)\n",
            "Requirement already satisfied: pandas>=0.20.0 in /usr/local/lib/python3.7/dist-packages (from plotly_express) (1.1.5)\n",
            "Requirement already satisfied: pytz>=2017.2 in /usr/local/lib/python3.7/dist-packages (from pandas>=0.20.0->plotly_express) (2018.9)\n",
            "Requirement already satisfied: python-dateutil>=2.7.3 in /usr/local/lib/python3.7/dist-packages (from pandas>=0.20.0->plotly_express) (2.8.2)\n",
            "Requirement already satisfied: six in /usr/local/lib/python3.7/dist-packages (from patsy>=0.5->plotly_express) (1.15.0)\n",
            "Requirement already satisfied: retrying>=1.3.3 in /usr/local/lib/python3.7/dist-packages (from plotly>=4.1.0->plotly_express) (1.3.3)\n"
          ]
        }
      ]
    },
    {
      "cell_type": "code",
      "metadata": {
        "id": "nCwdsc0pN_5l",
        "colab": {
          "base_uri": "https://localhost:8080/"
        },
        "outputId": "917033ea-9d0d-4d3b-994a-cfc16221c469"
      },
      "source": [
        "import numpy as np\n",
        "import pandas as pd\n",
        "import geopandas as gpd\n",
        "import matplotlib.pyplot as plt\n",
        "%matplotlib inline\n",
        "\n",
        "import random\n",
        "from plotly.offline import download_plotlyjs, init_notebook_mode, plot, iplot\n",
        "import plotly.express as px\n",
        "import plotly.graph_objects as go\n",
        "import plotly.figure_factory as ff\n",
        "from plotly.colors import n_colors\n",
        "from plotly.subplots import make_subplots\n",
        "init_notebook_mode(connected=True)\n",
        "import cufflinks as cf\n",
        "cf.go_offline()\n",
        "from wordcloud import WordCloud , ImageColorGenerator\n",
        "from PIL import Image\n",
        "\n",
        "!python3.7 -m pip install --upgrade pip\n",
        "!pip install pywaffle\n",
        "from pywaffle import Waffle \n",
        "import numpy as np # linear algebra\n",
        "import pandas as pd # data processing, CSV file I/O (e.g. pd.read_csv)\n",
        "import matplotlib.pyplot as plt\n",
        "import seaborn as sns\n",
        "import missingno as msno\n",
        "import plotly.offline as py\n",
        "\n",
        "py.init_notebook_mode(connected=True)\n",
        "import plotly.graph_objs as go\n",
        "import plotly.tools as tls\n",
        "import plotly.express as px\n",
        "\n",
        "import cufflinks as cf \n",
        "from plotly.offline import download_plotlyjs, init_notebook_mode, plot, iplot\n",
        "\n",
        "%matplotlib inline\n",
        "sns.set_style(\"whitegrid\")\n",
        "plt.style.use(\"fivethirtyeight\")\n",
        "\n",
        "import plotly.offline as py\n",
        "from plotly.offline import init_notebook_mode, iplot\n",
        "import plotly.graph_objs as go\n",
        "from plotly import tools\n",
        "init_notebook_mode(connected=True)  \n",
        "import plotly.figure_factory as ff\n",
        "\n",
        "import random"
      ],
      "execution_count": null,
      "outputs": [
        {
          "output_type": "display_data",
          "data": {
            "text/html": [
              "        <script type=\"text/javascript\">\n",
              "        window.PlotlyConfig = {MathJaxConfig: 'local'};\n",
              "        if (window.MathJax) {MathJax.Hub.Config({SVG: {font: \"STIX-Web\"}});}\n",
              "        if (typeof require !== 'undefined') {\n",
              "        require.undef(\"plotly\");\n",
              "        requirejs.config({\n",
              "            paths: {\n",
              "                'plotly': ['https://cdn.plot.ly/plotly-latest.min']\n",
              "            }\n",
              "        });\n",
              "        require(['plotly'], function(Plotly) {\n",
              "            window._Plotly = Plotly;\n",
              "        });\n",
              "        }\n",
              "        </script>\n",
              "        "
            ]
          },
          "metadata": {}
        },
        {
          "output_type": "display_data",
          "data": {
            "text/html": [
              "        <script type=\"text/javascript\">\n",
              "        window.PlotlyConfig = {MathJaxConfig: 'local'};\n",
              "        if (window.MathJax) {MathJax.Hub.Config({SVG: {font: \"STIX-Web\"}});}\n",
              "        if (typeof require !== 'undefined') {\n",
              "        require.undef(\"plotly\");\n",
              "        requirejs.config({\n",
              "            paths: {\n",
              "                'plotly': ['https://cdn.plot.ly/plotly-latest.min']\n",
              "            }\n",
              "        });\n",
              "        require(['plotly'], function(Plotly) {\n",
              "            window._Plotly = Plotly;\n",
              "        });\n",
              "        }\n",
              "        </script>\n",
              "        "
            ]
          },
          "metadata": {}
        },
        {
          "output_type": "stream",
          "name": "stdout",
          "text": [
            "Requirement already satisfied: pip in /usr/local/lib/python3.7/dist-packages (21.1.3)\n",
            "Collecting pip\n",
            "  Downloading pip-21.3.1-py3-none-any.whl (1.7 MB)\n",
            "\u001b[K     |████████████████████████████████| 1.7 MB 33.9 MB/s \n",
            "\u001b[?25hInstalling collected packages: pip\n",
            "  Attempting uninstall: pip\n",
            "    Found existing installation: pip 21.1.3\n",
            "    Uninstalling pip-21.1.3:\n",
            "      Successfully uninstalled pip-21.1.3\n",
            "Successfully installed pip-21.3.1\n",
            "Collecting pywaffle\n",
            "  Downloading pywaffle-0.6.3-py2.py3-none-any.whl (526 kB)\n",
            "     |████████████████████████████████| 526 kB 34.9 MB/s            \n",
            "\u001b[?25hRequirement already satisfied: matplotlib in /usr/local/lib/python3.7/dist-packages (from pywaffle) (3.2.2)\n",
            "Requirement already satisfied: kiwisolver>=1.0.1 in /usr/local/lib/python3.7/dist-packages (from matplotlib->pywaffle) (1.3.2)\n",
            "Requirement already satisfied: pyparsing!=2.0.4,!=2.1.2,!=2.1.6,>=2.0.1 in /usr/local/lib/python3.7/dist-packages (from matplotlib->pywaffle) (3.0.6)\n",
            "Requirement already satisfied: cycler>=0.10 in /usr/local/lib/python3.7/dist-packages (from matplotlib->pywaffle) (0.11.0)\n",
            "Requirement already satisfied: python-dateutil>=2.1 in /usr/local/lib/python3.7/dist-packages (from matplotlib->pywaffle) (2.8.2)\n",
            "Requirement already satisfied: numpy>=1.11 in /usr/local/lib/python3.7/dist-packages (from matplotlib->pywaffle) (1.19.5)\n",
            "Requirement already satisfied: six>=1.5 in /usr/local/lib/python3.7/dist-packages (from python-dateutil>=2.1->matplotlib->pywaffle) (1.15.0)\n",
            "Installing collected packages: pywaffle\n",
            "Successfully installed pywaffle-0.6.3\n",
            "\u001b[33mWARNING: Running pip as the 'root' user can result in broken permissions and conflicting behaviour with the system package manager. It is recommended to use a virtual environment instead: https://pip.pypa.io/warnings/venv\u001b[0m\n"
          ]
        },
        {
          "output_type": "display_data",
          "data": {
            "text/html": [
              "        <script type=\"text/javascript\">\n",
              "        window.PlotlyConfig = {MathJaxConfig: 'local'};\n",
              "        if (window.MathJax) {MathJax.Hub.Config({SVG: {font: \"STIX-Web\"}});}\n",
              "        if (typeof require !== 'undefined') {\n",
              "        require.undef(\"plotly\");\n",
              "        requirejs.config({\n",
              "            paths: {\n",
              "                'plotly': ['https://cdn.plot.ly/plotly-latest.min']\n",
              "            }\n",
              "        });\n",
              "        require(['plotly'], function(Plotly) {\n",
              "            window._Plotly = Plotly;\n",
              "        });\n",
              "        }\n",
              "        </script>\n",
              "        "
            ]
          },
          "metadata": {}
        },
        {
          "output_type": "display_data",
          "data": {
            "text/html": [
              "        <script type=\"text/javascript\">\n",
              "        window.PlotlyConfig = {MathJaxConfig: 'local'};\n",
              "        if (window.MathJax) {MathJax.Hub.Config({SVG: {font: \"STIX-Web\"}});}\n",
              "        if (typeof require !== 'undefined') {\n",
              "        require.undef(\"plotly\");\n",
              "        requirejs.config({\n",
              "            paths: {\n",
              "                'plotly': ['https://cdn.plot.ly/plotly-latest.min']\n",
              "            }\n",
              "        });\n",
              "        require(['plotly'], function(Plotly) {\n",
              "            window._Plotly = Plotly;\n",
              "        });\n",
              "        }\n",
              "        </script>\n",
              "        "
            ]
          },
          "metadata": {}
        }
      ]
    },
    {
      "cell_type": "code",
      "metadata": {
        "id": "zJeTdnJVIrIv"
      },
      "source": [
        "#random_colors defining for graphs of variuous colors\n",
        "\n",
        "def random_colors(number_of_colors):\n",
        "    color = [\"#\"+''.join([random.choice('0123456789ABCDEF') for j in range(6)])\n",
        "                 for i in range(number_of_colors)]\n",
        "    return color"
      ],
      "execution_count": null,
      "outputs": []
    },
    {
      "cell_type": "markdown",
      "metadata": {
        "id": "fNcqbFfyI0Rm"
      },
      "source": [
        "## Importing Dataset"
      ]
    },
    {
      "cell_type": "code",
      "metadata": {
        "id": "H8DP5f6II2Dd"
      },
      "source": [
        "deliveries = pd.read_csv('/content/IPL Matches 2008-2020.csv')\n",
        "matches = pd.read_csv('/content/IPL Ball-by-Ball 2008-2020.csv')"
      ],
      "execution_count": null,
      "outputs": []
    },
    {
      "cell_type": "markdown",
      "metadata": {
        "id": "fZQemN87JYqY"
      },
      "source": [
        "##Inspection and Cleaning of Data"
      ]
    },
    {
      "cell_type": "code",
      "metadata": {
        "id": "6nA-Wp9DJd05",
        "colab": {
          "base_uri": "https://localhost:8080/"
        },
        "outputId": "72fb7fd2-1e9a-43f7-83d9-6f74458ad9a8"
      },
      "source": [
        "#printing number of rows and columns of matches\n",
        "\n",
        "print(f'Number of rows    = {len(matches)}')\n",
        "print(f'Number of columns = {len(matches.columns)}')"
      ],
      "execution_count": null,
      "outputs": [
        {
          "output_type": "stream",
          "name": "stdout",
          "text": [
            "Number of rows    = 193468\n",
            "Number of columns = 18\n"
          ]
        }
      ]
    },
    {
      "cell_type": "code",
      "metadata": {
        "id": "w4BeSiJxJgqf",
        "colab": {
          "base_uri": "https://localhost:8080/"
        },
        "outputId": "4b1f57b0-476d-4e44-af58-e55e3bfb8f42"
      },
      "source": [
        "#Header of matches dataset\n",
        "\n",
        "matches.head()"
      ],
      "execution_count": null,
      "outputs": [
        {
          "output_type": "execute_result",
          "data": {
            "text/html": [
              "<div>\n",
              "<style scoped>\n",
              "    .dataframe tbody tr th:only-of-type {\n",
              "        vertical-align: middle;\n",
              "    }\n",
              "\n",
              "    .dataframe tbody tr th {\n",
              "        vertical-align: top;\n",
              "    }\n",
              "\n",
              "    .dataframe thead th {\n",
              "        text-align: right;\n",
              "    }\n",
              "</style>\n",
              "<table border=\"1\" class=\"dataframe\">\n",
              "  <thead>\n",
              "    <tr style=\"text-align: right;\">\n",
              "      <th></th>\n",
              "      <th>id</th>\n",
              "      <th>inning</th>\n",
              "      <th>over</th>\n",
              "      <th>ball</th>\n",
              "      <th>batsman</th>\n",
              "      <th>non_striker</th>\n",
              "      <th>bowler</th>\n",
              "      <th>batsman_runs</th>\n",
              "      <th>extra_runs</th>\n",
              "      <th>total_runs</th>\n",
              "      <th>non_boundary</th>\n",
              "      <th>is_wicket</th>\n",
              "      <th>dismissal_kind</th>\n",
              "      <th>player_dismissed</th>\n",
              "      <th>fielder</th>\n",
              "      <th>extras_type</th>\n",
              "      <th>batting_team</th>\n",
              "      <th>bowling_team</th>\n",
              "    </tr>\n",
              "  </thead>\n",
              "  <tbody>\n",
              "    <tr>\n",
              "      <th>0</th>\n",
              "      <td>335982</td>\n",
              "      <td>1</td>\n",
              "      <td>6</td>\n",
              "      <td>5</td>\n",
              "      <td>RT Ponting</td>\n",
              "      <td>BB McCullum</td>\n",
              "      <td>AA Noffke</td>\n",
              "      <td>1</td>\n",
              "      <td>0</td>\n",
              "      <td>1</td>\n",
              "      <td>0</td>\n",
              "      <td>0</td>\n",
              "      <td>NaN</td>\n",
              "      <td>NaN</td>\n",
              "      <td>NaN</td>\n",
              "      <td>NaN</td>\n",
              "      <td>Kolkata Knight Riders</td>\n",
              "      <td>Royal Challengers Bangalore</td>\n",
              "    </tr>\n",
              "    <tr>\n",
              "      <th>1</th>\n",
              "      <td>335982</td>\n",
              "      <td>1</td>\n",
              "      <td>6</td>\n",
              "      <td>6</td>\n",
              "      <td>BB McCullum</td>\n",
              "      <td>RT Ponting</td>\n",
              "      <td>AA Noffke</td>\n",
              "      <td>1</td>\n",
              "      <td>0</td>\n",
              "      <td>1</td>\n",
              "      <td>0</td>\n",
              "      <td>0</td>\n",
              "      <td>NaN</td>\n",
              "      <td>NaN</td>\n",
              "      <td>NaN</td>\n",
              "      <td>NaN</td>\n",
              "      <td>Kolkata Knight Riders</td>\n",
              "      <td>Royal Challengers Bangalore</td>\n",
              "    </tr>\n",
              "    <tr>\n",
              "      <th>2</th>\n",
              "      <td>335982</td>\n",
              "      <td>1</td>\n",
              "      <td>7</td>\n",
              "      <td>1</td>\n",
              "      <td>BB McCullum</td>\n",
              "      <td>RT Ponting</td>\n",
              "      <td>Z Khan</td>\n",
              "      <td>0</td>\n",
              "      <td>0</td>\n",
              "      <td>0</td>\n",
              "      <td>0</td>\n",
              "      <td>0</td>\n",
              "      <td>NaN</td>\n",
              "      <td>NaN</td>\n",
              "      <td>NaN</td>\n",
              "      <td>NaN</td>\n",
              "      <td>Kolkata Knight Riders</td>\n",
              "      <td>Royal Challengers Bangalore</td>\n",
              "    </tr>\n",
              "    <tr>\n",
              "      <th>3</th>\n",
              "      <td>335982</td>\n",
              "      <td>1</td>\n",
              "      <td>7</td>\n",
              "      <td>2</td>\n",
              "      <td>BB McCullum</td>\n",
              "      <td>RT Ponting</td>\n",
              "      <td>Z Khan</td>\n",
              "      <td>1</td>\n",
              "      <td>0</td>\n",
              "      <td>1</td>\n",
              "      <td>0</td>\n",
              "      <td>0</td>\n",
              "      <td>NaN</td>\n",
              "      <td>NaN</td>\n",
              "      <td>NaN</td>\n",
              "      <td>NaN</td>\n",
              "      <td>Kolkata Knight Riders</td>\n",
              "      <td>Royal Challengers Bangalore</td>\n",
              "    </tr>\n",
              "    <tr>\n",
              "      <th>4</th>\n",
              "      <td>335982</td>\n",
              "      <td>1</td>\n",
              "      <td>7</td>\n",
              "      <td>3</td>\n",
              "      <td>RT Ponting</td>\n",
              "      <td>BB McCullum</td>\n",
              "      <td>Z Khan</td>\n",
              "      <td>1</td>\n",
              "      <td>0</td>\n",
              "      <td>1</td>\n",
              "      <td>0</td>\n",
              "      <td>0</td>\n",
              "      <td>NaN</td>\n",
              "      <td>NaN</td>\n",
              "      <td>NaN</td>\n",
              "      <td>NaN</td>\n",
              "      <td>Kolkata Knight Riders</td>\n",
              "      <td>Royal Challengers Bangalore</td>\n",
              "    </tr>\n",
              "  </tbody>\n",
              "</table>\n",
              "</div>"
            ],
            "text/plain": [
              "       id  inning  ...           batting_team                 bowling_team\n",
              "0  335982       1  ...  Kolkata Knight Riders  Royal Challengers Bangalore\n",
              "1  335982       1  ...  Kolkata Knight Riders  Royal Challengers Bangalore\n",
              "2  335982       1  ...  Kolkata Knight Riders  Royal Challengers Bangalore\n",
              "3  335982       1  ...  Kolkata Knight Riders  Royal Challengers Bangalore\n",
              "4  335982       1  ...  Kolkata Knight Riders  Royal Challengers Bangalore\n",
              "\n",
              "[5 rows x 18 columns]"
            ]
          },
          "metadata": {},
          "execution_count": 8
        }
      ]
    },
    {
      "cell_type": "code",
      "metadata": {
        "id": "C01vLQAUJkcq",
        "colab": {
          "base_uri": "https://localhost:8080/"
        },
        "outputId": "30c688ff-9faf-4a42-ad16-8d24f4a1e0cf"
      },
      "source": [
        "#printing number of rows and columns of deliveries\n",
        "\n",
        "print(f'Number of rows    = {len(deliveries)}')\n",
        "print(f'Number of columns = {len(deliveries.columns)}')"
      ],
      "execution_count": null,
      "outputs": [
        {
          "output_type": "stream",
          "name": "stdout",
          "text": [
            "Number of rows    = 816\n",
            "Number of columns = 17\n"
          ]
        }
      ]
    },
    {
      "cell_type": "code",
      "metadata": {
        "id": "OZTpvX0IJnfn",
        "colab": {
          "base_uri": "https://localhost:8080/"
        },
        "outputId": "2c975193-50c5-4031-8506-ebd5885fa41d"
      },
      "source": [
        "#Header of deliveries dataset\n",
        "\n",
        "deliveries.head()"
      ],
      "execution_count": null,
      "outputs": [
        {
          "output_type": "execute_result",
          "data": {
            "text/html": [
              "<div>\n",
              "<style scoped>\n",
              "    .dataframe tbody tr th:only-of-type {\n",
              "        vertical-align: middle;\n",
              "    }\n",
              "\n",
              "    .dataframe tbody tr th {\n",
              "        vertical-align: top;\n",
              "    }\n",
              "\n",
              "    .dataframe thead th {\n",
              "        text-align: right;\n",
              "    }\n",
              "</style>\n",
              "<table border=\"1\" class=\"dataframe\">\n",
              "  <thead>\n",
              "    <tr style=\"text-align: right;\">\n",
              "      <th></th>\n",
              "      <th>id</th>\n",
              "      <th>city</th>\n",
              "      <th>date</th>\n",
              "      <th>player_of_match</th>\n",
              "      <th>venue</th>\n",
              "      <th>neutral_venue</th>\n",
              "      <th>team1</th>\n",
              "      <th>team2</th>\n",
              "      <th>toss_winner</th>\n",
              "      <th>toss_decision</th>\n",
              "      <th>winner</th>\n",
              "      <th>result</th>\n",
              "      <th>result_margin</th>\n",
              "      <th>eliminator</th>\n",
              "      <th>method</th>\n",
              "      <th>umpire1</th>\n",
              "      <th>umpire2</th>\n",
              "    </tr>\n",
              "  </thead>\n",
              "  <tbody>\n",
              "    <tr>\n",
              "      <th>0</th>\n",
              "      <td>335982</td>\n",
              "      <td>Bangalore</td>\n",
              "      <td>2008-04-18</td>\n",
              "      <td>BB McCullum</td>\n",
              "      <td>M Chinnaswamy Stadium</td>\n",
              "      <td>0</td>\n",
              "      <td>Royal Challengers Bangalore</td>\n",
              "      <td>Kolkata Knight Riders</td>\n",
              "      <td>Royal Challengers Bangalore</td>\n",
              "      <td>field</td>\n",
              "      <td>Kolkata Knight Riders</td>\n",
              "      <td>runs</td>\n",
              "      <td>140.0</td>\n",
              "      <td>N</td>\n",
              "      <td>NaN</td>\n",
              "      <td>Asad Rauf</td>\n",
              "      <td>RE Koertzen</td>\n",
              "    </tr>\n",
              "    <tr>\n",
              "      <th>1</th>\n",
              "      <td>335983</td>\n",
              "      <td>Chandigarh</td>\n",
              "      <td>2008-04-19</td>\n",
              "      <td>MEK Hussey</td>\n",
              "      <td>Punjab Cricket Association Stadium, Mohali</td>\n",
              "      <td>0</td>\n",
              "      <td>Kings XI Punjab</td>\n",
              "      <td>Chennai Super Kings</td>\n",
              "      <td>Chennai Super Kings</td>\n",
              "      <td>bat</td>\n",
              "      <td>Chennai Super Kings</td>\n",
              "      <td>runs</td>\n",
              "      <td>33.0</td>\n",
              "      <td>N</td>\n",
              "      <td>NaN</td>\n",
              "      <td>MR Benson</td>\n",
              "      <td>SL Shastri</td>\n",
              "    </tr>\n",
              "    <tr>\n",
              "      <th>2</th>\n",
              "      <td>335984</td>\n",
              "      <td>Delhi</td>\n",
              "      <td>2008-04-19</td>\n",
              "      <td>MF Maharoof</td>\n",
              "      <td>Feroz Shah Kotla</td>\n",
              "      <td>0</td>\n",
              "      <td>Delhi Daredevils</td>\n",
              "      <td>Rajasthan Royals</td>\n",
              "      <td>Rajasthan Royals</td>\n",
              "      <td>bat</td>\n",
              "      <td>Delhi Daredevils</td>\n",
              "      <td>wickets</td>\n",
              "      <td>9.0</td>\n",
              "      <td>N</td>\n",
              "      <td>NaN</td>\n",
              "      <td>Aleem Dar</td>\n",
              "      <td>GA Pratapkumar</td>\n",
              "    </tr>\n",
              "    <tr>\n",
              "      <th>3</th>\n",
              "      <td>335985</td>\n",
              "      <td>Mumbai</td>\n",
              "      <td>2008-04-20</td>\n",
              "      <td>MV Boucher</td>\n",
              "      <td>Wankhede Stadium</td>\n",
              "      <td>0</td>\n",
              "      <td>Mumbai Indians</td>\n",
              "      <td>Royal Challengers Bangalore</td>\n",
              "      <td>Mumbai Indians</td>\n",
              "      <td>bat</td>\n",
              "      <td>Royal Challengers Bangalore</td>\n",
              "      <td>wickets</td>\n",
              "      <td>5.0</td>\n",
              "      <td>N</td>\n",
              "      <td>NaN</td>\n",
              "      <td>SJ Davis</td>\n",
              "      <td>DJ Harper</td>\n",
              "    </tr>\n",
              "    <tr>\n",
              "      <th>4</th>\n",
              "      <td>335986</td>\n",
              "      <td>Kolkata</td>\n",
              "      <td>2008-04-20</td>\n",
              "      <td>DJ Hussey</td>\n",
              "      <td>Eden Gardens</td>\n",
              "      <td>0</td>\n",
              "      <td>Kolkata Knight Riders</td>\n",
              "      <td>Deccan Chargers</td>\n",
              "      <td>Deccan Chargers</td>\n",
              "      <td>bat</td>\n",
              "      <td>Kolkata Knight Riders</td>\n",
              "      <td>wickets</td>\n",
              "      <td>5.0</td>\n",
              "      <td>N</td>\n",
              "      <td>NaN</td>\n",
              "      <td>BF Bowden</td>\n",
              "      <td>K Hariharan</td>\n",
              "    </tr>\n",
              "  </tbody>\n",
              "</table>\n",
              "</div>"
            ],
            "text/plain": [
              "       id        city        date  ... method    umpire1         umpire2\n",
              "0  335982   Bangalore  2008-04-18  ...    NaN  Asad Rauf     RE Koertzen\n",
              "1  335983  Chandigarh  2008-04-19  ...    NaN  MR Benson      SL Shastri\n",
              "2  335984       Delhi  2008-04-19  ...    NaN  Aleem Dar  GA Pratapkumar\n",
              "3  335985      Mumbai  2008-04-20  ...    NaN   SJ Davis       DJ Harper\n",
              "4  335986     Kolkata  2008-04-20  ...    NaN  BF Bowden     K Hariharan\n",
              "\n",
              "[5 rows x 17 columns]"
            ]
          },
          "metadata": {},
          "execution_count": 10
        }
      ]
    },
    {
      "cell_type": "code",
      "metadata": {
        "id": "S_tArHT_JqEx",
        "colab": {
          "base_uri": "https://localhost:8080/"
        },
        "outputId": "de8043a0-92ce-4697-8d65-2bdf6c156a28"
      },
      "source": [
        "#Null values in matches dataset\n",
        "\n",
        "matches.isnull().sum()"
      ],
      "execution_count": null,
      "outputs": [
        {
          "output_type": "execute_result",
          "data": {
            "text/plain": [
              "id                       0\n",
              "inning                   0\n",
              "over                     0\n",
              "ball                     0\n",
              "batsman                  0\n",
              "non_striker              0\n",
              "bowler                   0\n",
              "batsman_runs             0\n",
              "extra_runs               0\n",
              "total_runs               0\n",
              "non_boundary             0\n",
              "is_wicket                0\n",
              "dismissal_kind      183973\n",
              "player_dismissed    183973\n",
              "fielder             186684\n",
              "extras_type         183235\n",
              "batting_team             0\n",
              "bowling_team           191\n",
              "dtype: int64"
            ]
          },
          "metadata": {},
          "execution_count": 11
        }
      ]
    },
    {
      "cell_type": "code",
      "metadata": {
        "id": "f-2CZGzzJu7b",
        "colab": {
          "base_uri": "https://localhost:8080/"
        },
        "outputId": "eea83f44-c6f8-4b13-e1b2-4cb7f10df4af"
      },
      "source": [
        "#columns in the matches dataset\n",
        "\n",
        "matches.columns"
      ],
      "execution_count": null,
      "outputs": [
        {
          "output_type": "execute_result",
          "data": {
            "text/plain": [
              "Index(['id', 'inning', 'over', 'ball', 'batsman', 'non_striker', 'bowler',\n",
              "       'batsman_runs', 'extra_runs', 'total_runs', 'non_boundary', 'is_wicket',\n",
              "       'dismissal_kind', 'player_dismissed', 'fielder', 'extras_type',\n",
              "       'batting_team', 'bowling_team'],\n",
              "      dtype='object')"
            ]
          },
          "metadata": {},
          "execution_count": 12
        }
      ]
    },
    {
      "cell_type": "code",
      "metadata": {
        "id": "iZ-lQ3YnJxKB",
        "colab": {
          "base_uri": "https://localhost:8080/"
        },
        "outputId": "86423960-1994-4788-d02a-643273f47a5a"
      },
      "source": [
        "#Null values in delivery dataset\n",
        "\n",
        "deliveries.isnull().sum()"
      ],
      "execution_count": null,
      "outputs": [
        {
          "output_type": "execute_result",
          "data": {
            "text/plain": [
              "id                   0\n",
              "city                13\n",
              "date                 0\n",
              "player_of_match      4\n",
              "venue                0\n",
              "neutral_venue        0\n",
              "team1                0\n",
              "team2                0\n",
              "toss_winner          0\n",
              "toss_decision        0\n",
              "winner               4\n",
              "result               4\n",
              "result_margin       17\n",
              "eliminator           4\n",
              "method             797\n",
              "umpire1              0\n",
              "umpire2              0\n",
              "dtype: int64"
            ]
          },
          "metadata": {},
          "execution_count": 13
        }
      ]
    },
    {
      "cell_type": "code",
      "metadata": {
        "id": "LW6mZursJzXH",
        "colab": {
          "base_uri": "https://localhost:8080/"
        },
        "outputId": "022899ae-65e9-47fa-f867-7fdab6b2d220"
      },
      "source": [
        "#Columns of deliveries dataset\n",
        "\n",
        "deliveries.columns"
      ],
      "execution_count": null,
      "outputs": [
        {
          "output_type": "execute_result",
          "data": {
            "text/plain": [
              "Index(['id', 'city', 'date', 'player_of_match', 'venue', 'neutral_venue',\n",
              "       'team1', 'team2', 'toss_winner', 'toss_decision', 'winner', 'result',\n",
              "       'result_margin', 'eliminator', 'method', 'umpire1', 'umpire2'],\n",
              "      dtype='object')"
            ]
          },
          "metadata": {},
          "execution_count": 14
        }
      ]
    },
    {
      "cell_type": "code",
      "metadata": {
        "id": "9PnjnHLCJ1v7",
        "colab": {
          "base_uri": "https://localhost:8080/"
        },
        "outputId": "407efbf2-6356-498a-ca84-b4bed498bb91"
      },
      "source": [
        "#Unique names of teams that have won\n",
        "print(deliveries['winner'].unique())\n",
        "\n",
        "#Unique names of cities where matches have been hosted\n",
        "print(deliveries['city'].unique())"
      ],
      "execution_count": null,
      "outputs": [
        {
          "output_type": "stream",
          "name": "stdout",
          "text": [
            "['Kolkata Knight Riders' 'Chennai Super Kings' 'Delhi Daredevils'\n",
            " 'Royal Challengers Bangalore' 'Rajasthan Royals' 'Kings XI Punjab'\n",
            " 'Deccan Chargers' 'Mumbai Indians' 'Pune Warriors' 'Kochi Tuskers Kerala'\n",
            " nan 'Sunrisers Hyderabad' 'Rising Pune Supergiants' 'Gujarat Lions'\n",
            " 'Rising Pune Supergiant' 'Delhi Capitals']\n",
            "['Bangalore' 'Chandigarh' 'Delhi' 'Mumbai' 'Kolkata' 'Jaipur' 'Hyderabad'\n",
            " 'Chennai' 'Cape Town' 'Port Elizabeth' 'Durban' 'Centurion' 'East London'\n",
            " 'Johannesburg' 'Kimberley' 'Bloemfontein' 'Ahmedabad' 'Cuttack' 'Nagpur'\n",
            " 'Dharamsala' 'Kochi' 'Indore' 'Visakhapatnam' 'Pune' 'Raipur' 'Ranchi'\n",
            " 'Abu Dhabi' nan 'Rajkot' 'Kanpur' 'Bengaluru' 'Dubai' 'Sharjah']\n"
          ]
        }
      ]
    },
    {
      "cell_type": "code",
      "metadata": {
        "id": "UDScUQQkJ4Mx"
      },
      "source": [
        "#Renaming teams for uniformity\n",
        "\n",
        "deliveries.team1.replace({'Rising Pune Supergiants' : 'Rising Pune Supergiant'},regex=True,inplace=True)\n",
        "deliveries.team2.replace({'Rising Pune Supergiants' : 'Rising Pune Supergiant'},regex=True,inplace=True)\n",
        "deliveries.winner.replace({'Rising Pune Supergiants' : 'Rising Pune Supergiant'},regex=True,inplace=True)\n",
        "deliveries.venue.replace({'Feroz Shah Kotla Ground':'Feroz Shah Kotla',\n",
        "                    'M Chinnaswamy Stadium':'M. Chinnaswamy Stadium',\n",
        "                    'MA Chidambaram Stadium, Chepauk':'M.A. Chidambaram Stadium',\n",
        "                     'M. A. Chidambaram Stadium':'M.A. Chidambaram Stadium',\n",
        "                     'Punjab Cricket Association IS Bindra Stadium, Mohali':'Punjab Cricket Association Stadium',\n",
        "                     'Punjab Cricket Association Stadium, Mohali':'Punjab Cricket Association Stadium',\n",
        "                     'IS Bindra Stadium':'Punjab Cricket Association Stadium',\n",
        "                    'Rajiv Gandhi International Stadium, Uppal':'Rajiv Gandhi International Stadium',\n",
        "                    'Rajiv Gandhi Intl. Cricket Stadium':'Rajiv Gandhi International Stadium'},regex=True,inplace=True)"
      ],
      "execution_count": null,
      "outputs": []
    },
    {
      "cell_type": "code",
      "metadata": {
        "id": "oBgOxtovJ7NE"
      },
      "source": [
        "#Replacing Bangalore with Bengaluru for uniformity\n",
        "\n",
        "deliveries.replace('Bangalore','Bengaluru', inplace = True)"
      ],
      "execution_count": null,
      "outputs": []
    },
    {
      "cell_type": "code",
      "metadata": {
        "id": "LJDqkAtUJ_Nj"
      },
      "source": [
        "#Fill missing values to prevent errors\n",
        "\n",
        "deliveries['winner'].fillna(deliveries['result'], inplace = True)\n",
        "deliveries['player_of_match'].fillna(deliveries['result'], inplace = True)\n",
        "deliveries['city'].fillna(deliveries['venue'], inplace = True)\n",
        "deliveries['umpire1'].fillna('unknown', inplace = True)\n",
        "deliveries['umpire2'].fillna('unknown', inplace = True)"
      ],
      "execution_count": null,
      "outputs": []
    },
    {
      "cell_type": "markdown",
      "metadata": {
        "id": "i8IASO-8KBZg"
      },
      "source": [
        "## Total Number of Matches till Year 2020"
      ]
    },
    {
      "cell_type": "code",
      "metadata": {
        "id": "kfqRvGzoKGg-"
      },
      "source": [
        "#using date of match to divide into season(year)\n",
        "\n",
        "deliveries[\"season\"] = deliveries[\"date\"].apply(lambda x:x.split(\"-\")[0])"
      ],
      "execution_count": null,
      "outputs": []
    },
    {
      "cell_type": "code",
      "metadata": {
        "id": "JtsqhjijKJEV"
      },
      "source": [
        "seasons_data = deliveries[\"season\"].value_counts()\n",
        "\n",
        "total_matches = deliveries.groupby('season')['id'].count()\n",
        "data = [go.Bar(\n",
        "    x = seasons_data.index,\n",
        "    y = seasons_data.values,\n",
        "    marker = dict(color = random_colors(len(seasons_data.index)),line=dict(color='#000001', width=1.5))\n",
        ")]\n",
        "\n",
        "layout = go.Layout(\n",
        "   {\n",
        "      \"title\":\"Total number of matches till 2020 (2008-2019)\",\n",
        "   }\n",
        ")\n",
        "\n",
        "#Plotting on the Colab platform\n",
        "fig = go.Figure(data=data,layout = layout)\n",
        "from IPython.display import HTML\n",
        "HTML(fig.to_html())"
      ],
      "execution_count": null,
      "outputs": []
    },
    {
      "cell_type": "markdown",
      "metadata": {
        "id": "rn0fcNk8K0bn"
      },
      "source": [
        "## Total Wins by Each Team"
      ]
    },
    {
      "cell_type": "code",
      "metadata": {
        "id": "MIbX7rbbK6Rs"
      },
      "source": [
        "data = [go.Bar(\n",
        "    x = deliveries['winner'].value_counts().index,\n",
        "    y = deliveries['winner'].value_counts().values,\n",
        "    marker = dict(color = random_colors(len(deliveries['winner'].value_counts().index)),line=dict(color='#000002', width=1.5))\n",
        ")]\n",
        "\n",
        "layout = go.Layout(\n",
        "   {\n",
        "      \"title\":\"Total number of wins by each team till 2020\",\n",
        "   }\n",
        ")\n",
        "\n",
        "fig = go.Figure(data=data,layout = layout)\n",
        "fig.show()\n",
        "from IPython.display import HTML\n",
        "HTML(fig.to_html())\n"
      ],
      "execution_count": null,
      "outputs": []
    },
    {
      "cell_type": "markdown",
      "metadata": {
        "id": "5TJSH_OJQAm9"
      },
      "source": [
        "##Toss Win Analysis"
      ]
    },
    {
      "cell_type": "code",
      "metadata": {
        "id": "KNiCnLcqQSQn"
      },
      "source": [
        "trace1 = go.Bar(x=deliveries[\"winner\"].value_counts().index, y=deliveries[\"winner\"].value_counts().values,name=\"match win\")\n",
        "trace2 = go.Bar(x=deliveries[\"toss_winner\"].value_counts().index, y=deliveries[\"toss_winner\"].value_counts().values,name=\"toss win\")\n",
        "\n",
        "# Fill out  data with our traces\n",
        "data = [trace1, trace2]\n",
        "# Create layout and specify title, legend and so on\n",
        "\n",
        "\n",
        "layout = go.Layout(title=\"Total number of wins for every team till 2020\",\n",
        "                   xaxis=dict(title=\"Teams\"),\n",
        "                   yaxis=dict(title=\"Number of Matches\"),\n",
        "                   legend=dict(x=1.0, y=0.5)\n",
        "                   ,barmode=\"group\")\n",
        "\n",
        "\n",
        "# Create figure with all prepared data for plot\n",
        "fig = go.Figure(data=data, layout=layout)\n",
        "# Create a plot in your Python script \n",
        "from IPython.display import HTML\n",
        "HTML(fig.to_html())"
      ],
      "execution_count": null,
      "outputs": []
    },
    {
      "cell_type": "code",
      "metadata": {
        "id": "q3TIxSXtQeDj"
      },
      "source": [
        "Total_matches_played = deliveries['team1'].value_counts() + deliveries['team2'].value_counts()\n",
        "\n",
        "toss_won = deliveries['toss_winner'].value_counts()\n",
        "toss_win_success_rate = (toss_won/Total_matches_played)*100\n",
        "toss_win_success_rate_sort = toss_win_success_rate.sort_values(ascending = False)\n",
        "toss_win_success_rate_sort\n",
        "\n",
        "data = [go.Bar(\n",
        "    x = toss_win_success_rate.sort_values(ascending=False).index,\n",
        "    y = toss_win_success_rate.sort_values(ascending=False).values,\n",
        "    marker = dict(color = random_colors(len(toss_win_success_rate.sort_values(ascending=False).index)),line=dict(color='#000000', width=1.5))\n",
        ")]\n",
        "\n",
        "layout = go.Layout(title=\"Toss Win Success Ratio. [Toss Won/Total Matches Played]\",\n",
        "                   xaxis=dict(title=\"Teams\"),\n",
        "                   yaxis=dict(title=\"Number of Matches\"))\n",
        "\n",
        "# Create figure with all prepared data for plot\n",
        "fig = go.Figure(data=data, layout=layout)\n",
        "# Create a plot in your Python script directory with name \"bar-chart.html\"\n",
        "from IPython.display import HTML\n",
        "HTML(fig.to_html())"
      ],
      "execution_count": null,
      "outputs": []
    },
    {
      "cell_type": "markdown",
      "metadata": {
        "id": "kzkAEjeaQxNU"
      },
      "source": [
        "## Player of the Match "
      ]
    },
    {
      "cell_type": "code",
      "metadata": {
        "id": "QFfJOKMxQ4Yo"
      },
      "source": [
        "data = [go.Bar(\n",
        "    x = deliveries['player_of_match'].value_counts()[:20].index,\n",
        "    y = deliveries['player_of_match'].value_counts()[:20].values,\n",
        "    marker = dict(color = random_colors(20),line=dict(color='#000000', width=1.5))\n",
        ")]\n",
        "\n",
        "\n",
        "layout = go.Layout(title=\"Total number of Player of the match. \",\n",
        "                   xaxis=dict(title=\"Name of the top 20 Player of the match.\"),\n",
        "                   yaxis=dict(title=\"Number of Player of the match titles won\"))\n",
        "\n",
        "# Create figure with all prepared data for plot\n",
        "fig = go.Figure(data=data, layout=layout)\n",
        "# Create a plot in your Python script directory with name \"bar-chart.html\"\n",
        "from IPython.display import HTML\n",
        "HTML(fig.to_html())"
      ],
      "execution_count": null,
      "outputs": []
    },
    {
      "cell_type": "markdown",
      "metadata": {
        "id": "gOl2tLVkRF6b"
      },
      "source": [
        "## Success Rate of Winning Matches"
      ]
    },
    {
      "cell_type": "code",
      "metadata": {
        "id": "r8BSNfWxRLs_"
      },
      "source": [
        "matches_won = deliveries.groupby('winner').count()\n",
        "total_matches = deliveries['team1'].value_counts() + deliveries['team2'].value_counts()\n",
        "\n",
        "matches_won['Total matches'] = total_matches\n",
        "win_df = matches_won[[\"Total matches\",\"result\"]]\n",
        "success_ratio = round((matches_won['id']/total_matches),4)*100\n",
        "success_ratio_sort = success_ratio.sort_values(ascending = False)\n",
        "\n",
        "data = [go.Bar(\n",
        "    x = success_ratio_sort.index,\n",
        "    y = success_ratio_sort.values,\n",
        "    marker = dict(color = random_colors(len(success_ratio_sort.index)),line=dict(color='#000000', width=1.5))\n",
        ")]\n",
        "\n",
        "layout = go.Layout(title=\"Success rate of Teams (Matches Won Per 100 Matches Played\",\n",
        "                   xaxis=dict(title=\"Teams\"),\n",
        "                   yaxis=dict(title=\"Success rate of wining\"))\n",
        "\n",
        "# Create figure with all prepared data for plot\n",
        "fig = go.Figure(data=data, layout=layout)\n",
        "# Create a plot in your Python script directory with name \"bar-chart.html\"\n",
        "from IPython.display import HTML\n",
        "HTML(fig.to_html())"
      ],
      "execution_count": null,
      "outputs": []
    },
    {
      "cell_type": "markdown",
      "metadata": {
        "id": "SA2RpqU8RcvW"
      },
      "source": [
        "##Most IPL Titles Won"
      ]
    },
    {
      "cell_type": "code",
      "metadata": {
        "id": "nmMH0v31RfCC"
      },
      "source": [
        "each_season_winner = deliveries.groupby('season')['season','winner'].tail(1)\n",
        "each_season_winner_sort = each_season_winner.sort_values('season',ascending = True)\n",
        "\n",
        "data = [go.Bar(\n",
        "    x = each_season_winner_sort[\"winner\"].value_counts().index,\n",
        "    y = each_season_winner_sort[\"winner\"].value_counts().values,\n",
        "    marker = dict(color = random_colors(len(each_season_winner_sort[\"winner\"].value_counts().index)),line=dict(color='#000000', width=1.5))\n",
        ")]\n",
        "\n",
        "layout = go.Layout(title=\"Most Titles Wins\",\n",
        "                   xaxis=dict(title=\"Teams\"),\n",
        "                   yaxis=dict(title=\"Number of seasons won by any team.\"))\n",
        "\n",
        "# Create figure with all prepared data for plot\n",
        "fig = go.Figure(data=data, layout=layout)\n",
        "# Create a plot in your Python script \n",
        "from IPython.display import HTML\n",
        "HTML(fig.to_html())"
      ],
      "execution_count": null,
      "outputs": []
    },
    {
      "cell_type": "markdown",
      "metadata": {
        "id": "EcfI5B7nRl-L"
      },
      "source": [
        "##Top IPL Players in Terms of Runs"
      ]
    },
    {
      "cell_type": "code",
      "metadata": {
        "id": "HEQo8cZXRqNH"
      },
      "source": [
        "batting_tot=matches.groupby('batsman').apply(lambda x:np.sum(x['batsman_runs'])).reset_index(name='Runs')\n",
        "batting_sorted=batting_tot.sort_values(by='Runs',ascending=False)\n",
        "top_batsmen=batting_sorted[:10] \n",
        "\n",
        "data = [go.Bar(\n",
        "    x = top_batsmen.batsman,\n",
        "    y = top_batsmen.Runs,\n",
        "    marker = dict(color = random_colors(10),line=dict(color='#000000', width=1.5))\n",
        ")]\n",
        "\n",
        "layout = go.Layout(title=\"Top 10 Batsmen in IPL- Seasons till 2020\",\n",
        "                   xaxis=dict(title=\"Top 10 Batsmen\"),\n",
        "                   yaxis=dict(title=\"Runs Scored\"))\n",
        "\n",
        "# Create figure with all prepared data for plot\n",
        "fig = go.Figure(data=data, layout=layout)\n",
        "# Create a plot in your Python script \n",
        "from IPython.display import HTML\n",
        "HTML(fig.to_html())"
      ],
      "execution_count": null,
      "outputs": []
    },
    {
      "cell_type": "markdown",
      "metadata": {
        "id": "F5A_bjoxSB2_"
      },
      "source": [
        "## Best Batting Performances in a Match"
      ]
    },
    {
      "cell_type": "code",
      "metadata": {
        "id": "vFMdm-yFSD8h"
      },
      "source": [
        "batting_ings=matches.groupby(['id','batsman']).apply(lambda x:np.sum(x['batsman_runs'])).reset_index(name='Innings Runs')\n",
        "batting_ings_sorted=batting_ings.sort_values(by='Innings Runs',ascending=False)\n",
        "top_batsmen_scores=batting_ings_sorted[:10] \n",
        "batsman_ball_faced=matches.groupby(['id','batsman']).apply(lambda x:x['batsman_runs'].count()).reset_index(name='Balls Faced')\n",
        "batsmen_performance=pd.merge(top_batsmen_scores,batsman_ball_faced,how='inner',left_on=['id','batsman'],right_on=['id','batsman'])\n",
        "batsmen_performance['Strike Rate for Match']=batsmen_performance['Innings Runs']*100/batsmen_performance['Balls Faced']\n",
        "batsmen_innings=pd.merge(batsmen_performance,matches,how='inner',left_on=['id','batsman'],right_on=['id','batsman'])\n",
        "batsmen_innings_req=batsmen_innings.iloc[:,1:8]\n",
        "batsmen_innings_req_2=batsmen_innings_req.drop_duplicates()\n",
        "x=batsmen_innings_req_2['batsman']\n",
        "y1=batsmen_innings_req_2['Strike Rate for Match']\n",
        "y2=batsmen_innings_req_2['Innings Runs']\n",
        "\n",
        "trace1 = go.Scatter(\n",
        "    x = x,\n",
        "    y = y1,\n",
        "    mode = 'markers',\n",
        "    name=\"Strike Rate\"\n",
        ")\n",
        "\n",
        "trace2 = go.Scatter(\n",
        "    x = x,\n",
        "    y = y2,\n",
        "    mode = 'markers',\n",
        "    name=\"Run\"\n",
        ")\n",
        "layout = go.Layout(title=\"IPL Best batting performances in a Match\",\n",
        "                   xaxis=dict(title=\"Batsmen\"),\n",
        "                   yaxis=dict(title=\"Strike Rate/Innings Score\"))\n",
        "\n",
        "\n",
        "# Fill out  data with our traces\n",
        "data = [trace1, trace2]\n",
        "\n",
        "# Create figure with all prepared data for plot\n",
        "fig = go.Figure(data=data, layout=layout)\n",
        "# Create a plot in your Python script \n",
        "from IPython.display import HTML\n",
        "HTML(fig.to_html())"
      ],
      "execution_count": null,
      "outputs": []
    },
    {
      "cell_type": "markdown",
      "metadata": {
        "id": "_UnqNtQ0SWmF"
      },
      "source": [
        "##Top Bowlers of IPL"
      ]
    },
    {
      "cell_type": "code",
      "metadata": {
        "id": "PBcWb-I9SZ3O"
      },
      "source": [
        "bowling_wickets=matches[matches['dismissal_kind']!='run out']\n",
        "bowling_tot=bowling_wickets.groupby('bowler').apply(lambda x:x['dismissal_kind'].dropna()).reset_index(name='Wickets')\n",
        "bowling_wick_count=bowling_tot.groupby('bowler').count().reset_index()\n",
        "bowling_top=bowling_wick_count.sort_values(by='Wickets',ascending=False)\n",
        "top_bowlers=bowling_top.loc[:,['bowler','Wickets']][0:10] \n",
        "\n",
        "trace1 = go.Scatter(\n",
        "    x = top_bowlers['bowler'].values,\n",
        "    y = top_bowlers['Wickets'].values,\n",
        "    mode = 'lines+markers',\n",
        ")\n",
        "\n",
        "layout = go.Layout(title=\"Top 10 Bowlers in IPL- Seasons 2008-2020\",\n",
        "                   xaxis=dict(title=\"TOP 10 Bowlers\"),\n",
        "                   yaxis=dict(title=\"Wickets Taken\"))\n",
        "\n",
        "\n",
        "# Fill out  data with our traces\n",
        "data = [trace1]\n",
        "\n",
        "# Create figure with all prepared data for plot\n",
        "fig = go.Figure(data=data, layout=layout)\n",
        "# Create a plot in your Python script \n",
        "from IPython.display import HTML\n",
        "HTML(fig.to_html())"
      ],
      "execution_count": null,
      "outputs": []
    },
    {
      "cell_type": "markdown",
      "metadata": {
        "id": "sZWqUTb4Sok1"
      },
      "source": [
        "##Best Bowling Performances in a Match"
      ]
    },
    {
      "cell_type": "code",
      "metadata": {
        "id": "7SnBh0rOSn_k"
      },
      "source": [
        "#Run Out is not considered as a wicket in the Bowler's account- hence we shall be removing them first\n",
        "match_bowling_tot=bowling_wickets.groupby(['id','bowler']).apply(lambda x:x['dismissal_kind'].dropna()).reset_index(name='Wickets')\n",
        "match_bowling_wick_count=match_bowling_tot.groupby(['id','bowler']).count().reset_index()\n",
        "match_bowling_top=match_bowling_wick_count.sort_values(by='Wickets',ascending=False)\n",
        "match_top_bowlers=match_bowling_top.loc[:,['id','bowler','Wickets']][0:10] \n",
        "match_bowling_runs=matches.groupby(['id','bowler']).apply(lambda x:np.sum(x['total_runs'])).reset_index(name='Runs Conceeded')\n",
        "match_bowler_performance=pd.merge(match_top_bowlers,match_bowling_runs,how='inner',left_on=['id','bowler'],right_on=['id','bowler'])\n",
        "match_bowler_performance['Runs per Wicket']=match_bowler_performance['Runs Conceeded']/match_bowler_performance['Wickets']\n",
        "bowler_innings=pd.merge(match_bowler_performance,matches,how='inner',left_on=['id','bowler'],right_on=['id','bowler'])\n",
        "bowler_innings_req=bowler_innings.iloc[:,1:8]\n",
        "bowler_innings_req_2=bowler_innings_req.drop_duplicates()\n",
        "x=bowler_innings_req_2['bowler']\n",
        "y1=bowler_innings_req_2['Wickets']\n",
        "y2=bowler_innings_req_2['Runs per Wicket']\n",
        "\n",
        "\n",
        "trace1 = go.Scatter(\n",
        "    x = x,\n",
        "    y = y1,\n",
        "    mode = 'markers',\n",
        "    name=\"Wickets\"\n",
        ")\n",
        "\n",
        "trace2 = go.Scatter(\n",
        "    x = x,\n",
        "    y = y2,\n",
        "    mode = 'lines+markers',\n",
        "    name=\"Run Per Wicket\"\n",
        ")\n",
        "\n",
        "layout = go.Layout(title=\"IPL Best bowling performances in a Match\",\n",
        "                   xaxis=dict(title=\"Top Bowlers\"),\n",
        "                   yaxis=dict(title=\"Runs per Wicket/Wickets\"))\n",
        "\n",
        "\n",
        "# Fill out  data with our traces\n",
        "data = [trace1, trace2]\n",
        "\n",
        "# Create figure with all prepared data for plot\n",
        "fig = go.Figure(data=data, layout=layout)\n",
        "# Create a plot in your Python script \n",
        "from IPython.display import HTML\n",
        "HTML(fig.to_html())"
      ],
      "execution_count": null,
      "outputs": []
    },
    {
      "cell_type": "markdown",
      "metadata": {
        "id": "PX-Vy_aIS5RR"
      },
      "source": [
        "##Top Cities to Host IPL Matches"
      ]
    },
    {
      "cell_type": "code",
      "metadata": {
        "id": "1NXBdlTzS9rH"
      },
      "source": [
        "city_counts= deliveries.groupby('city').apply(lambda x:x['city'].count()).reset_index(name='Match Counts')\n",
        "top_cities_order=city_counts.sort_values(by='Match Counts',ascending=False)\n",
        "top_cities=top_cities_order[:10]\n",
        "\n",
        "trace = go.Pie(labels = top_cities.city.values, values =top_cities[\"Match Counts\"].values,\n",
        "               marker=dict(colors = random_colors(10), \n",
        "                           line=dict(color='#000000', width=2)\n",
        "                           ))\n",
        "data = [trace]\n",
        "layout = go.Layout(\n",
        "   {\n",
        "      \"title\":\"Top Cities that have hosted IPL Matches\",\n",
        "   }\n",
        ")\n",
        "\n",
        "fig = go.Figure(data=data,layout = layout)\n",
        "# Create a plot in your Python script \n",
        "from IPython.display import HTML\n",
        "HTML(fig.to_html())"
      ],
      "execution_count": null,
      "outputs": []
    },
    {
      "cell_type": "markdown",
      "metadata": {
        "id": "2i-RqtIZTSv3"
      },
      "source": [
        "## Results based on D/L Method "
      ]
    },
    {
      "cell_type": "code",
      "metadata": {
        "id": "acgNd8dhT9Uh"
      },
      "source": [
        "deliveries[\"method\"].fillna(\"Non D/L\",inplace=True)\n",
        "data = [go.Bar(\n",
        "    x = deliveries[\"method\"].value_counts().index.values,\n",
        "    y = deliveries[\"method\"].value_counts().values,\n",
        "    marker = dict(color = random_colors(3),line=dict(color='#000000', width=2))\n",
        ")]\n",
        "\n",
        "layout = go.Layout(\n",
        "   {\n",
        "      \"title\":\"Results Based on Duckworth-Lewis\",\n",
        "   }\n",
        ")\n",
        "fig = go.Figure(data=data,layout = layout)\n",
        "iplot(fig)\n",
        "\n",
        "trace = go.Pie(labels = deliveries[\"method\"].value_counts().index.values, values = deliveries[\"method\"].value_counts().values,\n",
        "                            hole = 0.2,\n",
        "               marker=dict(colors = random_colors(3), \n",
        "                           line=dict(color='#000000', width=2)\n",
        "                           ))\n",
        "data = [trace]\n",
        "layout = go.Layout(\n",
        "   {\n",
        "      \"title\":\"Results Based on Duckworth-Lewis\",\n",
        "   }\n",
        ")\n",
        "\n",
        "fig = go.Figure(data=data,layout = layout)\n",
        "# Create a plot in your Python script \n",
        "from IPython.display import HTML\n",
        "HTML(fig.to_html())"
      ],
      "execution_count": null,
      "outputs": []
    },
    {
      "cell_type": "markdown",
      "metadata": {
        "id": "_iLjNGVmUDDz"
      },
      "source": [
        "## Top Umpires of IPL based on number of matches"
      ]
    },
    {
      "cell_type": "code",
      "metadata": {
        "id": "dXyyqeMVUH_h"
      },
      "source": [
        "data = pd.DataFrame({\"umpire\":deliveries[\"umpire1\"].tolist() + deliveries[\"umpire2\"].tolist()},columns=['umpire'])\n",
        "data = [go.Bar(\n",
        "    x = data[\"umpire\"].value_counts().index[:10],\n",
        "    y = data[\"umpire\"].value_counts().values[:10],\n",
        "    marker = dict(color = random_colors(10),line=dict(color='#000000', width=1))\n",
        ")]\n",
        "\n",
        "layout = go.Layout(\n",
        "   {\n",
        "      \"title\":\"Top 10 Umpire to feature in max number of matches\",\n",
        "   }\n",
        ")\n",
        "fig = go.Figure(data=data,layout = layout)\n",
        "# Create a plot in your Python script \n",
        "from IPython.display import HTML\n",
        "HTML(fig.to_html())"
      ],
      "execution_count": null,
      "outputs": []
    },
    {
      "cell_type": "markdown",
      "metadata": {
        "id": "KKHFWnnyUPF-"
      },
      "source": [
        "## Season Wise Match Summary of Matches Won by Runs"
      ]
    },
    {
      "cell_type": "code",
      "metadata": {
        "id": "0Z8lX1QyUVSt"
      },
      "source": [
        "data = {\"season\":deliveries[\"season\"], \n",
        "        \"winsbyrun\":deliveries[deliveries['result_margin']!=0]['result_margin']} \n",
        "df = pd.concat(data, \n",
        "               axis = 1) \n",
        "\n",
        "fig = px.strip(df, x=\"season\", y=\"winsbyrun\")\n",
        "# Create a plot in your Python script \n",
        "from IPython.display import HTML\n",
        "HTML(fig.to_html())"
      ],
      "execution_count": null,
      "outputs": []
    },
    {
      "cell_type": "markdown",
      "metadata": {
        "id": "DlQWw2fmUf3i"
      },
      "source": [
        "## Analysis of Dismissal Reasons in IPL "
      ]
    },
    {
      "cell_type": "code",
      "metadata": {
        "id": "CMb4JDOoUjx_"
      },
      "source": [
        "data = [go.Bar(\n",
        "    x = matches[\"dismissal_kind\"].value_counts().index,\n",
        "    y = matches[\"dismissal_kind\"].value_counts().values,\n",
        "    marker = dict(color = random_colors(len(matches[\"dismissal_kind\"].value_counts().index)),line=dict(color='#000000', width=1))\n",
        ")]\n",
        "\n",
        "layout = go.Layout(\n",
        "   {\n",
        "      \"title\":\"Top Most Dismissal Kind\",\n",
        "   }\n",
        ")\n",
        "fig = go.Figure(data=data,layout = layout)\n",
        "# Create a plot in your Python script \n",
        "from IPython.display import HTML\n",
        "HTML(fig.to_html())"
      ],
      "execution_count": null,
      "outputs": []
    },
    {
      "cell_type": "markdown",
      "metadata": {
        "id": "oG4iRmgSUpdY"
      },
      "source": [
        "## Best Fielders in IPL History"
      ]
    },
    {
      "cell_type": "code",
      "metadata": {
        "id": "kupNMp3TYAmB"
      },
      "source": [
        "data = [go.Bar(\n",
        "    x =matches[\"fielder\"].value_counts().index[:10],\n",
        "    y = matches[\"fielder\"].value_counts().values[:10],\n",
        "    marker = dict(color = random_colors(10),line=dict(color='#000000', width=1))\n",
        ")]\n",
        "\n",
        "layout = go.Layout(\n",
        "   {\n",
        "      \"title\":\"Top 10 Best Fielders in the Field \",\n",
        "   }\n",
        ")\n",
        "fig = go.Figure(data=data,layout = layout)\n",
        "# Create a plot in your Python script \n",
        "from IPython.display import HTML\n",
        "HTML(fig.to_html())"
      ],
      "execution_count": null,
      "outputs": []
    },
    {
      "cell_type": "markdown",
      "metadata": {
        "id": "hggKTcvQU7rf"
      },
      "source": [
        "## Analysis of Over-Wise Runs and Wickets\n"
      ]
    },
    {
      "cell_type": "code",
      "metadata": {
        "id": "s0l2yaBLU-vj"
      },
      "source": [
        "fig = go.Figure(\n",
        "   data=[\n",
        "       go.Scatter(\n",
        "          x=matches.groupby(by='over').sum().index,\n",
        "          y=matches.groupby(by='over').sum().total_runs.values,\n",
        "          mode='lines'\n",
        "       )\n",
        "   ],\n",
        "   layout=go.Layout(\n",
        "       title='Total Runs'\n",
        "   )\n",
        ")\n",
        "# Create a plot in your Python script \n",
        "from IPython.display import HTML\n",
        "HTML(fig.to_html())\n",
        "\n"
      ],
      "execution_count": null,
      "outputs": []
    },
    {
      "cell_type": "code",
      "metadata": {
        "id": "drPoubsEVbY-"
      },
      "source": [
        "fig = go.Figure(\n",
        "   data=[\n",
        "       go.Scatter(\n",
        "          x=matches.groupby(by='over').sum().index,\n",
        "          y=matches.groupby(by='over').sum().is_wicket.values,\n",
        "          mode='lines'\n",
        "       )\n",
        "   ],\n",
        "   layout=go.Layout(\n",
        "       title='Total Wickets'\n",
        "   )\n",
        ")\n",
        "# Create a plot in your Python script \n",
        "from IPython.display import HTML\n",
        "HTML(fig.to_html())"
      ],
      "execution_count": null,
      "outputs": []
    },
    {
      "cell_type": "code",
      "metadata": {
        "id": "ZbuE3qFdVnik"
      },
      "source": [
        "fig = go.Figure(\n",
        "   data=[\n",
        "       go.Scatter(\n",
        "          x=matches.groupby(by='over').sum().index,\n",
        "          y=matches.groupby(by='over').sum().extra_runs.values,\n",
        "          mode='lines'\n",
        "       )\n",
        "   ],\n",
        "   layout=go.Layout(\n",
        "       title='Total Extra Runs'\n",
        "   )\n",
        ")\n",
        "# Create a plot in your Python script \n",
        "from IPython.display import HTML\n",
        "HTML(fig.to_html())"
      ],
      "execution_count": null,
      "outputs": []
    },
    {
      "cell_type": "markdown",
      "metadata": {
        "id": "qHA2_a0bOUGk"
      },
      "source": [
        "#Second Part (Prediction of Match Winner - Training and Execution)"
      ]
    },
    {
      "cell_type": "code",
      "metadata": {
        "id": "b2Io53-8OyZD"
      },
      "source": [
        "#importing libraries\n",
        "import numpy as np \n",
        "import pandas as pd\n",
        "\n",
        "import matplotlib.pyplot as plt\n",
        "\n",
        "from sklearn.linear_model import LogisticRegression\n",
        "from sklearn.model_selection import KFold   #For K-fold cross validation\n",
        "from sklearn.ensemble import RandomForestClassifier\n",
        "from sklearn.tree import DecisionTreeClassifier, export_graphviz\n",
        "from sklearn import metrics"
      ],
      "execution_count": null,
      "outputs": []
    },
    {
      "cell_type": "code",
      "metadata": {
        "id": "yKJY3kH9eeXV",
        "colab": {
          "base_uri": "https://localhost:8080/",
          "height": 1000
        },
        "outputId": "8f94ee2b-6986-4dba-d73d-124af983f6c4"
      },
      "source": [
        "matches = pd.read_csv('/content/matches.csv')\n",
        "deliveries = pd.read_csv('/content/deliveries.csv')\n",
        "display(matches)\n",
        "display(deliveries)"
      ],
      "execution_count": null,
      "outputs": [
        {
          "output_type": "display_data",
          "data": {
            "text/html": [
              "<div>\n",
              "<style scoped>\n",
              "    .dataframe tbody tr th:only-of-type {\n",
              "        vertical-align: middle;\n",
              "    }\n",
              "\n",
              "    .dataframe tbody tr th {\n",
              "        vertical-align: top;\n",
              "    }\n",
              "\n",
              "    .dataframe thead th {\n",
              "        text-align: right;\n",
              "    }\n",
              "</style>\n",
              "<table border=\"1\" class=\"dataframe\">\n",
              "  <thead>\n",
              "    <tr style=\"text-align: right;\">\n",
              "      <th></th>\n",
              "      <th>id</th>\n",
              "      <th>season</th>\n",
              "      <th>city</th>\n",
              "      <th>date</th>\n",
              "      <th>team1</th>\n",
              "      <th>team2</th>\n",
              "      <th>toss_winner</th>\n",
              "      <th>toss_decision</th>\n",
              "      <th>result</th>\n",
              "      <th>dl_applied</th>\n",
              "      <th>winner</th>\n",
              "      <th>win_by_runs</th>\n",
              "      <th>win_by_wickets</th>\n",
              "      <th>player_of_match</th>\n",
              "      <th>venue</th>\n",
              "      <th>umpire1</th>\n",
              "      <th>umpire2</th>\n",
              "      <th>umpire3</th>\n",
              "    </tr>\n",
              "  </thead>\n",
              "  <tbody>\n",
              "    <tr>\n",
              "      <th>0</th>\n",
              "      <td>1</td>\n",
              "      <td>2017</td>\n",
              "      <td>Hyderabad</td>\n",
              "      <td>2017-04-05</td>\n",
              "      <td>Sunrisers Hyderabad</td>\n",
              "      <td>Royal Challengers Bangalore</td>\n",
              "      <td>Royal Challengers Bangalore</td>\n",
              "      <td>field</td>\n",
              "      <td>normal</td>\n",
              "      <td>0</td>\n",
              "      <td>Sunrisers Hyderabad</td>\n",
              "      <td>35</td>\n",
              "      <td>0</td>\n",
              "      <td>Yuvraj Singh</td>\n",
              "      <td>Rajiv Gandhi International Stadium, Uppal</td>\n",
              "      <td>AY Dandekar</td>\n",
              "      <td>NJ Llong</td>\n",
              "      <td>NaN</td>\n",
              "    </tr>\n",
              "    <tr>\n",
              "      <th>1</th>\n",
              "      <td>2</td>\n",
              "      <td>2017</td>\n",
              "      <td>Pune</td>\n",
              "      <td>2017-04-06</td>\n",
              "      <td>Mumbai Indians</td>\n",
              "      <td>Rising Pune Supergiant</td>\n",
              "      <td>Rising Pune Supergiant</td>\n",
              "      <td>field</td>\n",
              "      <td>normal</td>\n",
              "      <td>0</td>\n",
              "      <td>Rising Pune Supergiant</td>\n",
              "      <td>0</td>\n",
              "      <td>7</td>\n",
              "      <td>SPD Smith</td>\n",
              "      <td>Maharashtra Cricket Association Stadium</td>\n",
              "      <td>A Nand Kishore</td>\n",
              "      <td>S Ravi</td>\n",
              "      <td>NaN</td>\n",
              "    </tr>\n",
              "    <tr>\n",
              "      <th>2</th>\n",
              "      <td>3</td>\n",
              "      <td>2017</td>\n",
              "      <td>Rajkot</td>\n",
              "      <td>2017-04-07</td>\n",
              "      <td>Gujarat Lions</td>\n",
              "      <td>Kolkata Knight Riders</td>\n",
              "      <td>Kolkata Knight Riders</td>\n",
              "      <td>field</td>\n",
              "      <td>normal</td>\n",
              "      <td>0</td>\n",
              "      <td>Kolkata Knight Riders</td>\n",
              "      <td>0</td>\n",
              "      <td>10</td>\n",
              "      <td>CA Lynn</td>\n",
              "      <td>Saurashtra Cricket Association Stadium</td>\n",
              "      <td>Nitin Menon</td>\n",
              "      <td>CK Nandan</td>\n",
              "      <td>NaN</td>\n",
              "    </tr>\n",
              "    <tr>\n",
              "      <th>3</th>\n",
              "      <td>4</td>\n",
              "      <td>2017</td>\n",
              "      <td>Indore</td>\n",
              "      <td>2017-04-08</td>\n",
              "      <td>Rising Pune Supergiant</td>\n",
              "      <td>Kings XI Punjab</td>\n",
              "      <td>Kings XI Punjab</td>\n",
              "      <td>field</td>\n",
              "      <td>normal</td>\n",
              "      <td>0</td>\n",
              "      <td>Kings XI Punjab</td>\n",
              "      <td>0</td>\n",
              "      <td>6</td>\n",
              "      <td>GJ Maxwell</td>\n",
              "      <td>Holkar Cricket Stadium</td>\n",
              "      <td>AK Chaudhary</td>\n",
              "      <td>C Shamshuddin</td>\n",
              "      <td>NaN</td>\n",
              "    </tr>\n",
              "    <tr>\n",
              "      <th>4</th>\n",
              "      <td>5</td>\n",
              "      <td>2017</td>\n",
              "      <td>Bangalore</td>\n",
              "      <td>2017-04-08</td>\n",
              "      <td>Royal Challengers Bangalore</td>\n",
              "      <td>Delhi Daredevils</td>\n",
              "      <td>Royal Challengers Bangalore</td>\n",
              "      <td>bat</td>\n",
              "      <td>normal</td>\n",
              "      <td>0</td>\n",
              "      <td>Royal Challengers Bangalore</td>\n",
              "      <td>15</td>\n",
              "      <td>0</td>\n",
              "      <td>KM Jadhav</td>\n",
              "      <td>M Chinnaswamy Stadium</td>\n",
              "      <td>NaN</td>\n",
              "      <td>NaN</td>\n",
              "      <td>NaN</td>\n",
              "    </tr>\n",
              "    <tr>\n",
              "      <th>...</th>\n",
              "      <td>...</td>\n",
              "      <td>...</td>\n",
              "      <td>...</td>\n",
              "      <td>...</td>\n",
              "      <td>...</td>\n",
              "      <td>...</td>\n",
              "      <td>...</td>\n",
              "      <td>...</td>\n",
              "      <td>...</td>\n",
              "      <td>...</td>\n",
              "      <td>...</td>\n",
              "      <td>...</td>\n",
              "      <td>...</td>\n",
              "      <td>...</td>\n",
              "      <td>...</td>\n",
              "      <td>...</td>\n",
              "      <td>...</td>\n",
              "      <td>...</td>\n",
              "    </tr>\n",
              "    <tr>\n",
              "      <th>631</th>\n",
              "      <td>632</td>\n",
              "      <td>2016</td>\n",
              "      <td>Raipur</td>\n",
              "      <td>2016-05-22</td>\n",
              "      <td>Delhi Daredevils</td>\n",
              "      <td>Royal Challengers Bangalore</td>\n",
              "      <td>Royal Challengers Bangalore</td>\n",
              "      <td>field</td>\n",
              "      <td>normal</td>\n",
              "      <td>0</td>\n",
              "      <td>Royal Challengers Bangalore</td>\n",
              "      <td>0</td>\n",
              "      <td>6</td>\n",
              "      <td>V Kohli</td>\n",
              "      <td>Shaheed Veer Narayan Singh International Stadium</td>\n",
              "      <td>A Nand Kishore</td>\n",
              "      <td>BNJ Oxenford</td>\n",
              "      <td>NaN</td>\n",
              "    </tr>\n",
              "    <tr>\n",
              "      <th>632</th>\n",
              "      <td>633</td>\n",
              "      <td>2016</td>\n",
              "      <td>Bangalore</td>\n",
              "      <td>2016-05-24</td>\n",
              "      <td>Gujarat Lions</td>\n",
              "      <td>Royal Challengers Bangalore</td>\n",
              "      <td>Royal Challengers Bangalore</td>\n",
              "      <td>field</td>\n",
              "      <td>normal</td>\n",
              "      <td>0</td>\n",
              "      <td>Royal Challengers Bangalore</td>\n",
              "      <td>0</td>\n",
              "      <td>4</td>\n",
              "      <td>AB de Villiers</td>\n",
              "      <td>M Chinnaswamy Stadium</td>\n",
              "      <td>AK Chaudhary</td>\n",
              "      <td>HDPK Dharmasena</td>\n",
              "      <td>NaN</td>\n",
              "    </tr>\n",
              "    <tr>\n",
              "      <th>633</th>\n",
              "      <td>634</td>\n",
              "      <td>2016</td>\n",
              "      <td>Delhi</td>\n",
              "      <td>2016-05-25</td>\n",
              "      <td>Sunrisers Hyderabad</td>\n",
              "      <td>Kolkata Knight Riders</td>\n",
              "      <td>Kolkata Knight Riders</td>\n",
              "      <td>field</td>\n",
              "      <td>normal</td>\n",
              "      <td>0</td>\n",
              "      <td>Sunrisers Hyderabad</td>\n",
              "      <td>22</td>\n",
              "      <td>0</td>\n",
              "      <td>MC Henriques</td>\n",
              "      <td>Feroz Shah Kotla</td>\n",
              "      <td>M Erasmus</td>\n",
              "      <td>C Shamshuddin</td>\n",
              "      <td>NaN</td>\n",
              "    </tr>\n",
              "    <tr>\n",
              "      <th>634</th>\n",
              "      <td>635</td>\n",
              "      <td>2016</td>\n",
              "      <td>Delhi</td>\n",
              "      <td>2016-05-27</td>\n",
              "      <td>Gujarat Lions</td>\n",
              "      <td>Sunrisers Hyderabad</td>\n",
              "      <td>Sunrisers Hyderabad</td>\n",
              "      <td>field</td>\n",
              "      <td>normal</td>\n",
              "      <td>0</td>\n",
              "      <td>Sunrisers Hyderabad</td>\n",
              "      <td>0</td>\n",
              "      <td>4</td>\n",
              "      <td>DA Warner</td>\n",
              "      <td>Feroz Shah Kotla</td>\n",
              "      <td>M Erasmus</td>\n",
              "      <td>CK Nandan</td>\n",
              "      <td>NaN</td>\n",
              "    </tr>\n",
              "    <tr>\n",
              "      <th>635</th>\n",
              "      <td>636</td>\n",
              "      <td>2016</td>\n",
              "      <td>Bangalore</td>\n",
              "      <td>2016-05-29</td>\n",
              "      <td>Sunrisers Hyderabad</td>\n",
              "      <td>Royal Challengers Bangalore</td>\n",
              "      <td>Sunrisers Hyderabad</td>\n",
              "      <td>bat</td>\n",
              "      <td>normal</td>\n",
              "      <td>0</td>\n",
              "      <td>Sunrisers Hyderabad</td>\n",
              "      <td>8</td>\n",
              "      <td>0</td>\n",
              "      <td>BCJ Cutting</td>\n",
              "      <td>M Chinnaswamy Stadium</td>\n",
              "      <td>HDPK Dharmasena</td>\n",
              "      <td>BNJ Oxenford</td>\n",
              "      <td>NaN</td>\n",
              "    </tr>\n",
              "  </tbody>\n",
              "</table>\n",
              "<p>636 rows × 18 columns</p>\n",
              "</div>"
            ],
            "text/plain": [
              "      id  season       city  ...          umpire1          umpire2 umpire3\n",
              "0      1    2017  Hyderabad  ...      AY Dandekar         NJ Llong     NaN\n",
              "1      2    2017       Pune  ...   A Nand Kishore           S Ravi     NaN\n",
              "2      3    2017     Rajkot  ...      Nitin Menon        CK Nandan     NaN\n",
              "3      4    2017     Indore  ...     AK Chaudhary    C Shamshuddin     NaN\n",
              "4      5    2017  Bangalore  ...              NaN              NaN     NaN\n",
              "..   ...     ...        ...  ...              ...              ...     ...\n",
              "631  632    2016     Raipur  ...   A Nand Kishore     BNJ Oxenford     NaN\n",
              "632  633    2016  Bangalore  ...     AK Chaudhary  HDPK Dharmasena     NaN\n",
              "633  634    2016      Delhi  ...        M Erasmus    C Shamshuddin     NaN\n",
              "634  635    2016      Delhi  ...        M Erasmus        CK Nandan     NaN\n",
              "635  636    2016  Bangalore  ...  HDPK Dharmasena     BNJ Oxenford     NaN\n",
              "\n",
              "[636 rows x 18 columns]"
            ]
          },
          "metadata": {}
        },
        {
          "output_type": "display_data",
          "data": {
            "text/html": [
              "<div>\n",
              "<style scoped>\n",
              "    .dataframe tbody tr th:only-of-type {\n",
              "        vertical-align: middle;\n",
              "    }\n",
              "\n",
              "    .dataframe tbody tr th {\n",
              "        vertical-align: top;\n",
              "    }\n",
              "\n",
              "    .dataframe thead th {\n",
              "        text-align: right;\n",
              "    }\n",
              "</style>\n",
              "<table border=\"1\" class=\"dataframe\">\n",
              "  <thead>\n",
              "    <tr style=\"text-align: right;\">\n",
              "      <th></th>\n",
              "      <th>match_id</th>\n",
              "      <th>inning</th>\n",
              "      <th>batting_team</th>\n",
              "      <th>bowling_team</th>\n",
              "      <th>over</th>\n",
              "      <th>ball</th>\n",
              "      <th>batsman</th>\n",
              "      <th>non_striker</th>\n",
              "      <th>bowler</th>\n",
              "      <th>is_super_over</th>\n",
              "      <th>wide_runs</th>\n",
              "      <th>bye_runs</th>\n",
              "      <th>legbye_runs</th>\n",
              "      <th>noball_runs</th>\n",
              "      <th>penalty_runs</th>\n",
              "      <th>batsman_runs</th>\n",
              "      <th>extra_runs</th>\n",
              "      <th>total_runs</th>\n",
              "      <th>player_dismissed</th>\n",
              "      <th>dismissal_kind</th>\n",
              "      <th>fielder</th>\n",
              "    </tr>\n",
              "  </thead>\n",
              "  <tbody>\n",
              "    <tr>\n",
              "      <th>0</th>\n",
              "      <td>1</td>\n",
              "      <td>1</td>\n",
              "      <td>Sunrisers Hyderabad</td>\n",
              "      <td>Royal Challengers Bangalore</td>\n",
              "      <td>1</td>\n",
              "      <td>1</td>\n",
              "      <td>DA Warner</td>\n",
              "      <td>S Dhawan</td>\n",
              "      <td>TS Mills</td>\n",
              "      <td>0</td>\n",
              "      <td>0</td>\n",
              "      <td>0</td>\n",
              "      <td>0</td>\n",
              "      <td>0</td>\n",
              "      <td>0</td>\n",
              "      <td>0</td>\n",
              "      <td>0</td>\n",
              "      <td>0</td>\n",
              "      <td>NaN</td>\n",
              "      <td>NaN</td>\n",
              "      <td>NaN</td>\n",
              "    </tr>\n",
              "    <tr>\n",
              "      <th>1</th>\n",
              "      <td>1</td>\n",
              "      <td>1</td>\n",
              "      <td>Sunrisers Hyderabad</td>\n",
              "      <td>Royal Challengers Bangalore</td>\n",
              "      <td>1</td>\n",
              "      <td>2</td>\n",
              "      <td>DA Warner</td>\n",
              "      <td>S Dhawan</td>\n",
              "      <td>TS Mills</td>\n",
              "      <td>0</td>\n",
              "      <td>0</td>\n",
              "      <td>0</td>\n",
              "      <td>0</td>\n",
              "      <td>0</td>\n",
              "      <td>0</td>\n",
              "      <td>0</td>\n",
              "      <td>0</td>\n",
              "      <td>0</td>\n",
              "      <td>NaN</td>\n",
              "      <td>NaN</td>\n",
              "      <td>NaN</td>\n",
              "    </tr>\n",
              "    <tr>\n",
              "      <th>2</th>\n",
              "      <td>1</td>\n",
              "      <td>1</td>\n",
              "      <td>Sunrisers Hyderabad</td>\n",
              "      <td>Royal Challengers Bangalore</td>\n",
              "      <td>1</td>\n",
              "      <td>3</td>\n",
              "      <td>DA Warner</td>\n",
              "      <td>S Dhawan</td>\n",
              "      <td>TS Mills</td>\n",
              "      <td>0</td>\n",
              "      <td>0</td>\n",
              "      <td>0</td>\n",
              "      <td>0</td>\n",
              "      <td>0</td>\n",
              "      <td>0</td>\n",
              "      <td>4</td>\n",
              "      <td>0</td>\n",
              "      <td>4</td>\n",
              "      <td>NaN</td>\n",
              "      <td>NaN</td>\n",
              "      <td>NaN</td>\n",
              "    </tr>\n",
              "    <tr>\n",
              "      <th>3</th>\n",
              "      <td>1</td>\n",
              "      <td>1</td>\n",
              "      <td>Sunrisers Hyderabad</td>\n",
              "      <td>Royal Challengers Bangalore</td>\n",
              "      <td>1</td>\n",
              "      <td>4</td>\n",
              "      <td>DA Warner</td>\n",
              "      <td>S Dhawan</td>\n",
              "      <td>TS Mills</td>\n",
              "      <td>0</td>\n",
              "      <td>0</td>\n",
              "      <td>0</td>\n",
              "      <td>0</td>\n",
              "      <td>0</td>\n",
              "      <td>0</td>\n",
              "      <td>0</td>\n",
              "      <td>0</td>\n",
              "      <td>0</td>\n",
              "      <td>NaN</td>\n",
              "      <td>NaN</td>\n",
              "      <td>NaN</td>\n",
              "    </tr>\n",
              "    <tr>\n",
              "      <th>4</th>\n",
              "      <td>1</td>\n",
              "      <td>1</td>\n",
              "      <td>Sunrisers Hyderabad</td>\n",
              "      <td>Royal Challengers Bangalore</td>\n",
              "      <td>1</td>\n",
              "      <td>5</td>\n",
              "      <td>DA Warner</td>\n",
              "      <td>S Dhawan</td>\n",
              "      <td>TS Mills</td>\n",
              "      <td>0</td>\n",
              "      <td>2</td>\n",
              "      <td>0</td>\n",
              "      <td>0</td>\n",
              "      <td>0</td>\n",
              "      <td>0</td>\n",
              "      <td>0</td>\n",
              "      <td>2</td>\n",
              "      <td>2</td>\n",
              "      <td>NaN</td>\n",
              "      <td>NaN</td>\n",
              "      <td>NaN</td>\n",
              "    </tr>\n",
              "    <tr>\n",
              "      <th>...</th>\n",
              "      <td>...</td>\n",
              "      <td>...</td>\n",
              "      <td>...</td>\n",
              "      <td>...</td>\n",
              "      <td>...</td>\n",
              "      <td>...</td>\n",
              "      <td>...</td>\n",
              "      <td>...</td>\n",
              "      <td>...</td>\n",
              "      <td>...</td>\n",
              "      <td>...</td>\n",
              "      <td>...</td>\n",
              "      <td>...</td>\n",
              "      <td>...</td>\n",
              "      <td>...</td>\n",
              "      <td>...</td>\n",
              "      <td>...</td>\n",
              "      <td>...</td>\n",
              "      <td>...</td>\n",
              "      <td>...</td>\n",
              "      <td>...</td>\n",
              "    </tr>\n",
              "    <tr>\n",
              "      <th>150455</th>\n",
              "      <td>636</td>\n",
              "      <td>2</td>\n",
              "      <td>Royal Challengers Bangalore</td>\n",
              "      <td>Sunrisers Hyderabad</td>\n",
              "      <td>20</td>\n",
              "      <td>2</td>\n",
              "      <td>Sachin Baby</td>\n",
              "      <td>CJ Jordan</td>\n",
              "      <td>B Kumar</td>\n",
              "      <td>0</td>\n",
              "      <td>0</td>\n",
              "      <td>0</td>\n",
              "      <td>0</td>\n",
              "      <td>0</td>\n",
              "      <td>0</td>\n",
              "      <td>2</td>\n",
              "      <td>0</td>\n",
              "      <td>2</td>\n",
              "      <td>NaN</td>\n",
              "      <td>NaN</td>\n",
              "      <td>NaN</td>\n",
              "    </tr>\n",
              "    <tr>\n",
              "      <th>150456</th>\n",
              "      <td>636</td>\n",
              "      <td>2</td>\n",
              "      <td>Royal Challengers Bangalore</td>\n",
              "      <td>Sunrisers Hyderabad</td>\n",
              "      <td>20</td>\n",
              "      <td>3</td>\n",
              "      <td>Sachin Baby</td>\n",
              "      <td>CJ Jordan</td>\n",
              "      <td>B Kumar</td>\n",
              "      <td>0</td>\n",
              "      <td>0</td>\n",
              "      <td>0</td>\n",
              "      <td>0</td>\n",
              "      <td>0</td>\n",
              "      <td>0</td>\n",
              "      <td>0</td>\n",
              "      <td>0</td>\n",
              "      <td>0</td>\n",
              "      <td>CJ Jordan</td>\n",
              "      <td>run out</td>\n",
              "      <td>NV Ojha</td>\n",
              "    </tr>\n",
              "    <tr>\n",
              "      <th>150457</th>\n",
              "      <td>636</td>\n",
              "      <td>2</td>\n",
              "      <td>Royal Challengers Bangalore</td>\n",
              "      <td>Sunrisers Hyderabad</td>\n",
              "      <td>20</td>\n",
              "      <td>4</td>\n",
              "      <td>Iqbal Abdulla</td>\n",
              "      <td>Sachin Baby</td>\n",
              "      <td>B Kumar</td>\n",
              "      <td>0</td>\n",
              "      <td>0</td>\n",
              "      <td>0</td>\n",
              "      <td>1</td>\n",
              "      <td>0</td>\n",
              "      <td>0</td>\n",
              "      <td>0</td>\n",
              "      <td>1</td>\n",
              "      <td>1</td>\n",
              "      <td>NaN</td>\n",
              "      <td>NaN</td>\n",
              "      <td>NaN</td>\n",
              "    </tr>\n",
              "    <tr>\n",
              "      <th>150458</th>\n",
              "      <td>636</td>\n",
              "      <td>2</td>\n",
              "      <td>Royal Challengers Bangalore</td>\n",
              "      <td>Sunrisers Hyderabad</td>\n",
              "      <td>20</td>\n",
              "      <td>5</td>\n",
              "      <td>Sachin Baby</td>\n",
              "      <td>Iqbal Abdulla</td>\n",
              "      <td>B Kumar</td>\n",
              "      <td>0</td>\n",
              "      <td>0</td>\n",
              "      <td>0</td>\n",
              "      <td>0</td>\n",
              "      <td>0</td>\n",
              "      <td>0</td>\n",
              "      <td>1</td>\n",
              "      <td>0</td>\n",
              "      <td>1</td>\n",
              "      <td>NaN</td>\n",
              "      <td>NaN</td>\n",
              "      <td>NaN</td>\n",
              "    </tr>\n",
              "    <tr>\n",
              "      <th>150459</th>\n",
              "      <td>636</td>\n",
              "      <td>2</td>\n",
              "      <td>Royal Challengers Bangalore</td>\n",
              "      <td>Sunrisers Hyderabad</td>\n",
              "      <td>20</td>\n",
              "      <td>6</td>\n",
              "      <td>Iqbal Abdulla</td>\n",
              "      <td>Sachin Baby</td>\n",
              "      <td>B Kumar</td>\n",
              "      <td>0</td>\n",
              "      <td>0</td>\n",
              "      <td>0</td>\n",
              "      <td>0</td>\n",
              "      <td>0</td>\n",
              "      <td>0</td>\n",
              "      <td>4</td>\n",
              "      <td>0</td>\n",
              "      <td>4</td>\n",
              "      <td>NaN</td>\n",
              "      <td>NaN</td>\n",
              "      <td>NaN</td>\n",
              "    </tr>\n",
              "  </tbody>\n",
              "</table>\n",
              "<p>150460 rows × 21 columns</p>\n",
              "</div>"
            ],
            "text/plain": [
              "        match_id  inning  ... dismissal_kind  fielder\n",
              "0              1       1  ...            NaN      NaN\n",
              "1              1       1  ...            NaN      NaN\n",
              "2              1       1  ...            NaN      NaN\n",
              "3              1       1  ...            NaN      NaN\n",
              "4              1       1  ...            NaN      NaN\n",
              "...          ...     ...  ...            ...      ...\n",
              "150455       636       2  ...            NaN      NaN\n",
              "150456       636       2  ...        run out  NV Ojha\n",
              "150457       636       2  ...            NaN      NaN\n",
              "150458       636       2  ...            NaN      NaN\n",
              "150459       636       2  ...            NaN      NaN\n",
              "\n",
              "[150460 rows x 21 columns]"
            ]
          },
          "metadata": {}
        }
      ]
    },
    {
      "cell_type": "code",
      "metadata": {
        "id": "xQwmq0CshJ3P",
        "colab": {
          "base_uri": "https://localhost:8080/"
        },
        "outputId": "5fcbec56-84fd-4fd9-87ce-9d19cc410a21"
      },
      "source": [
        "#to print no. of rows and columns in matches\n",
        "print(f'Number of rows    = {len(matches)}')\n",
        "print(f'Number of columns = {len(matches.columns)}')"
      ],
      "execution_count": null,
      "outputs": [
        {
          "output_type": "stream",
          "name": "stdout",
          "text": [
            "Number of rows    = 636\n",
            "Number of columns = 18\n"
          ]
        }
      ]
    },
    {
      "cell_type": "code",
      "metadata": {
        "id": "YvcmOIg-hxog",
        "colab": {
          "base_uri": "https://localhost:8080/",
          "height": 250
        },
        "outputId": "4343cd2a-d540-471d-8321-82a12c54d307"
      },
      "source": [
        "matches[pd.isnull(matches['winner'])]      #to find the null data in 'winner' column\n"
      ],
      "execution_count": null,
      "outputs": [
        {
          "output_type": "execute_result",
          "data": {
            "text/html": [
              "<div>\n",
              "<style scoped>\n",
              "    .dataframe tbody tr th:only-of-type {\n",
              "        vertical-align: middle;\n",
              "    }\n",
              "\n",
              "    .dataframe tbody tr th {\n",
              "        vertical-align: top;\n",
              "    }\n",
              "\n",
              "    .dataframe thead th {\n",
              "        text-align: right;\n",
              "    }\n",
              "</style>\n",
              "<table border=\"1\" class=\"dataframe\">\n",
              "  <thead>\n",
              "    <tr style=\"text-align: right;\">\n",
              "      <th></th>\n",
              "      <th>id</th>\n",
              "      <th>season</th>\n",
              "      <th>city</th>\n",
              "      <th>date</th>\n",
              "      <th>team1</th>\n",
              "      <th>team2</th>\n",
              "      <th>toss_winner</th>\n",
              "      <th>toss_decision</th>\n",
              "      <th>result</th>\n",
              "      <th>dl_applied</th>\n",
              "      <th>winner</th>\n",
              "      <th>win_by_runs</th>\n",
              "      <th>win_by_wickets</th>\n",
              "      <th>player_of_match</th>\n",
              "      <th>venue</th>\n",
              "      <th>umpire1</th>\n",
              "      <th>umpire2</th>\n",
              "      <th>umpire3</th>\n",
              "    </tr>\n",
              "  </thead>\n",
              "  <tbody>\n",
              "    <tr>\n",
              "      <th>300</th>\n",
              "      <td>301</td>\n",
              "      <td>2011</td>\n",
              "      <td>Delhi</td>\n",
              "      <td>2011-05-21</td>\n",
              "      <td>Delhi Daredevils</td>\n",
              "      <td>Pune Warriors</td>\n",
              "      <td>Delhi Daredevils</td>\n",
              "      <td>bat</td>\n",
              "      <td>no result</td>\n",
              "      <td>0</td>\n",
              "      <td>NaN</td>\n",
              "      <td>0</td>\n",
              "      <td>0</td>\n",
              "      <td>NaN</td>\n",
              "      <td>Feroz Shah Kotla</td>\n",
              "      <td>SS Hazare</td>\n",
              "      <td>RJ Tucker</td>\n",
              "      <td>NaN</td>\n",
              "    </tr>\n",
              "    <tr>\n",
              "      <th>545</th>\n",
              "      <td>546</td>\n",
              "      <td>2015</td>\n",
              "      <td>Bangalore</td>\n",
              "      <td>2015-04-29</td>\n",
              "      <td>Royal Challengers Bangalore</td>\n",
              "      <td>Rajasthan Royals</td>\n",
              "      <td>Rajasthan Royals</td>\n",
              "      <td>field</td>\n",
              "      <td>no result</td>\n",
              "      <td>0</td>\n",
              "      <td>NaN</td>\n",
              "      <td>0</td>\n",
              "      <td>0</td>\n",
              "      <td>NaN</td>\n",
              "      <td>M Chinnaswamy Stadium</td>\n",
              "      <td>JD Cloete</td>\n",
              "      <td>PG Pathak</td>\n",
              "      <td>NaN</td>\n",
              "    </tr>\n",
              "    <tr>\n",
              "      <th>570</th>\n",
              "      <td>571</td>\n",
              "      <td>2015</td>\n",
              "      <td>Bangalore</td>\n",
              "      <td>2015-05-17</td>\n",
              "      <td>Delhi Daredevils</td>\n",
              "      <td>Royal Challengers Bangalore</td>\n",
              "      <td>Royal Challengers Bangalore</td>\n",
              "      <td>field</td>\n",
              "      <td>no result</td>\n",
              "      <td>0</td>\n",
              "      <td>NaN</td>\n",
              "      <td>0</td>\n",
              "      <td>0</td>\n",
              "      <td>NaN</td>\n",
              "      <td>M Chinnaswamy Stadium</td>\n",
              "      <td>HDPK Dharmasena</td>\n",
              "      <td>K Srinivasan</td>\n",
              "      <td>NaN</td>\n",
              "    </tr>\n",
              "  </tbody>\n",
              "</table>\n",
              "</div>"
            ],
            "text/plain": [
              "      id  season       city  ...          umpire1       umpire2 umpire3\n",
              "300  301    2011      Delhi  ...        SS Hazare     RJ Tucker     NaN\n",
              "545  546    2015  Bangalore  ...        JD Cloete     PG Pathak     NaN\n",
              "570  571    2015  Bangalore  ...  HDPK Dharmasena  K Srinivasan     NaN\n",
              "\n",
              "[3 rows x 18 columns]"
            ]
          },
          "metadata": {},
          "execution_count": 4
        }
      ]
    },
    {
      "cell_type": "code",
      "metadata": {
        "id": "0FvR2TN-ipz-"
      },
      "source": [
        "matches['winner'].fillna('Draw', inplace=True)  #replace the null value in winner with Draw"
      ],
      "execution_count": null,
      "outputs": []
    },
    {
      "cell_type": "code",
      "metadata": {
        "id": "Une8WbH_jI03",
        "colab": {
          "base_uri": "https://localhost:8080/",
          "height": 434
        },
        "outputId": "3b3c5b07-90ec-40b5-8f80-502c7c8db072"
      },
      "source": [
        "matches.replace(['Mumbai Indians','Kolkata Knight Riders','Royal Challengers Bangalore','Deccan Chargers','Chennai Super Kings',\n",
        "                 'Rajasthan Royals','Delhi Daredevils','Gujarat Lions','Kings XI Punjab',\n",
        "                 'Sunrisers Hyderabad','Rising Pune Supergiants','Rising Pune Supergiant','Kochi Tuskers Kerala','Pune Warriors','Draw']\n",
        "                ,[1,2,3,4,5,6,7,8,9,10,11,11,12,13,14],inplace=True)   #replacing team name with a key\n",
        "\n",
        "matches.head()"
      ],
      "execution_count": null,
      "outputs": [
        {
          "output_type": "execute_result",
          "data": {
            "text/html": [
              "<div>\n",
              "<style scoped>\n",
              "    .dataframe tbody tr th:only-of-type {\n",
              "        vertical-align: middle;\n",
              "    }\n",
              "\n",
              "    .dataframe tbody tr th {\n",
              "        vertical-align: top;\n",
              "    }\n",
              "\n",
              "    .dataframe thead th {\n",
              "        text-align: right;\n",
              "    }\n",
              "</style>\n",
              "<table border=\"1\" class=\"dataframe\">\n",
              "  <thead>\n",
              "    <tr style=\"text-align: right;\">\n",
              "      <th></th>\n",
              "      <th>id</th>\n",
              "      <th>season</th>\n",
              "      <th>city</th>\n",
              "      <th>date</th>\n",
              "      <th>team1</th>\n",
              "      <th>team2</th>\n",
              "      <th>toss_winner</th>\n",
              "      <th>toss_decision</th>\n",
              "      <th>result</th>\n",
              "      <th>dl_applied</th>\n",
              "      <th>winner</th>\n",
              "      <th>win_by_runs</th>\n",
              "      <th>win_by_wickets</th>\n",
              "      <th>player_of_match</th>\n",
              "      <th>venue</th>\n",
              "      <th>umpire1</th>\n",
              "      <th>umpire2</th>\n",
              "      <th>umpire3</th>\n",
              "    </tr>\n",
              "  </thead>\n",
              "  <tbody>\n",
              "    <tr>\n",
              "      <th>0</th>\n",
              "      <td>1</td>\n",
              "      <td>2017</td>\n",
              "      <td>Hyderabad</td>\n",
              "      <td>2017-04-05</td>\n",
              "      <td>10</td>\n",
              "      <td>3</td>\n",
              "      <td>3</td>\n",
              "      <td>field</td>\n",
              "      <td>normal</td>\n",
              "      <td>0</td>\n",
              "      <td>10</td>\n",
              "      <td>35</td>\n",
              "      <td>0</td>\n",
              "      <td>Yuvraj Singh</td>\n",
              "      <td>Rajiv Gandhi International Stadium, Uppal</td>\n",
              "      <td>AY Dandekar</td>\n",
              "      <td>NJ Llong</td>\n",
              "      <td>NaN</td>\n",
              "    </tr>\n",
              "    <tr>\n",
              "      <th>1</th>\n",
              "      <td>2</td>\n",
              "      <td>2017</td>\n",
              "      <td>Pune</td>\n",
              "      <td>2017-04-06</td>\n",
              "      <td>1</td>\n",
              "      <td>11</td>\n",
              "      <td>11</td>\n",
              "      <td>field</td>\n",
              "      <td>normal</td>\n",
              "      <td>0</td>\n",
              "      <td>11</td>\n",
              "      <td>0</td>\n",
              "      <td>7</td>\n",
              "      <td>SPD Smith</td>\n",
              "      <td>Maharashtra Cricket Association Stadium</td>\n",
              "      <td>A Nand Kishore</td>\n",
              "      <td>S Ravi</td>\n",
              "      <td>NaN</td>\n",
              "    </tr>\n",
              "    <tr>\n",
              "      <th>2</th>\n",
              "      <td>3</td>\n",
              "      <td>2017</td>\n",
              "      <td>Rajkot</td>\n",
              "      <td>2017-04-07</td>\n",
              "      <td>8</td>\n",
              "      <td>2</td>\n",
              "      <td>2</td>\n",
              "      <td>field</td>\n",
              "      <td>normal</td>\n",
              "      <td>0</td>\n",
              "      <td>2</td>\n",
              "      <td>0</td>\n",
              "      <td>10</td>\n",
              "      <td>CA Lynn</td>\n",
              "      <td>Saurashtra Cricket Association Stadium</td>\n",
              "      <td>Nitin Menon</td>\n",
              "      <td>CK Nandan</td>\n",
              "      <td>NaN</td>\n",
              "    </tr>\n",
              "    <tr>\n",
              "      <th>3</th>\n",
              "      <td>4</td>\n",
              "      <td>2017</td>\n",
              "      <td>Indore</td>\n",
              "      <td>2017-04-08</td>\n",
              "      <td>11</td>\n",
              "      <td>9</td>\n",
              "      <td>9</td>\n",
              "      <td>field</td>\n",
              "      <td>normal</td>\n",
              "      <td>0</td>\n",
              "      <td>9</td>\n",
              "      <td>0</td>\n",
              "      <td>6</td>\n",
              "      <td>GJ Maxwell</td>\n",
              "      <td>Holkar Cricket Stadium</td>\n",
              "      <td>AK Chaudhary</td>\n",
              "      <td>C Shamshuddin</td>\n",
              "      <td>NaN</td>\n",
              "    </tr>\n",
              "    <tr>\n",
              "      <th>4</th>\n",
              "      <td>5</td>\n",
              "      <td>2017</td>\n",
              "      <td>Bangalore</td>\n",
              "      <td>2017-04-08</td>\n",
              "      <td>3</td>\n",
              "      <td>7</td>\n",
              "      <td>3</td>\n",
              "      <td>bat</td>\n",
              "      <td>normal</td>\n",
              "      <td>0</td>\n",
              "      <td>3</td>\n",
              "      <td>15</td>\n",
              "      <td>0</td>\n",
              "      <td>KM Jadhav</td>\n",
              "      <td>M Chinnaswamy Stadium</td>\n",
              "      <td>NaN</td>\n",
              "      <td>NaN</td>\n",
              "      <td>NaN</td>\n",
              "    </tr>\n",
              "  </tbody>\n",
              "</table>\n",
              "</div>"
            ],
            "text/plain": [
              "   id  season       city  ...         umpire1        umpire2  umpire3\n",
              "0   1    2017  Hyderabad  ...     AY Dandekar       NJ Llong      NaN\n",
              "1   2    2017       Pune  ...  A Nand Kishore         S Ravi      NaN\n",
              "2   3    2017     Rajkot  ...     Nitin Menon      CK Nandan      NaN\n",
              "3   4    2017     Indore  ...    AK Chaudhary  C Shamshuddin      NaN\n",
              "4   5    2017  Bangalore  ...             NaN            NaN      NaN\n",
              "\n",
              "[5 rows x 18 columns]"
            ]
          },
          "metadata": {},
          "execution_count": 6
        }
      ]
    },
    {
      "cell_type": "code",
      "metadata": {
        "id": "RUv7iBR8mBU_",
        "colab": {
          "base_uri": "https://localhost:8080/",
          "height": 653
        },
        "outputId": "9eee58d2-b914-4297-eb87-e2b3e339c342"
      },
      "source": [
        "matches[pd.isnull(matches['city'])]   #to find the null data in 'city' column"
      ],
      "execution_count": null,
      "outputs": [
        {
          "output_type": "execute_result",
          "data": {
            "text/html": [
              "<div>\n",
              "<style scoped>\n",
              "    .dataframe tbody tr th:only-of-type {\n",
              "        vertical-align: middle;\n",
              "    }\n",
              "\n",
              "    .dataframe tbody tr th {\n",
              "        vertical-align: top;\n",
              "    }\n",
              "\n",
              "    .dataframe thead th {\n",
              "        text-align: right;\n",
              "    }\n",
              "</style>\n",
              "<table border=\"1\" class=\"dataframe\">\n",
              "  <thead>\n",
              "    <tr style=\"text-align: right;\">\n",
              "      <th></th>\n",
              "      <th>id</th>\n",
              "      <th>season</th>\n",
              "      <th>city</th>\n",
              "      <th>date</th>\n",
              "      <th>team1</th>\n",
              "      <th>team2</th>\n",
              "      <th>toss_winner</th>\n",
              "      <th>toss_decision</th>\n",
              "      <th>result</th>\n",
              "      <th>dl_applied</th>\n",
              "      <th>winner</th>\n",
              "      <th>win_by_runs</th>\n",
              "      <th>win_by_wickets</th>\n",
              "      <th>player_of_match</th>\n",
              "      <th>venue</th>\n",
              "      <th>umpire1</th>\n",
              "      <th>umpire2</th>\n",
              "      <th>umpire3</th>\n",
              "    </tr>\n",
              "  </thead>\n",
              "  <tbody>\n",
              "    <tr>\n",
              "      <th>461</th>\n",
              "      <td>462</td>\n",
              "      <td>2014</td>\n",
              "      <td>NaN</td>\n",
              "      <td>2014-04-19</td>\n",
              "      <td>1</td>\n",
              "      <td>3</td>\n",
              "      <td>3</td>\n",
              "      <td>field</td>\n",
              "      <td>normal</td>\n",
              "      <td>0</td>\n",
              "      <td>3</td>\n",
              "      <td>0</td>\n",
              "      <td>7</td>\n",
              "      <td>PA Patel</td>\n",
              "      <td>Dubai International Cricket Stadium</td>\n",
              "      <td>Aleem Dar</td>\n",
              "      <td>AK Chaudhary</td>\n",
              "      <td>NaN</td>\n",
              "    </tr>\n",
              "    <tr>\n",
              "      <th>462</th>\n",
              "      <td>463</td>\n",
              "      <td>2014</td>\n",
              "      <td>NaN</td>\n",
              "      <td>2014-04-19</td>\n",
              "      <td>2</td>\n",
              "      <td>7</td>\n",
              "      <td>2</td>\n",
              "      <td>bat</td>\n",
              "      <td>normal</td>\n",
              "      <td>0</td>\n",
              "      <td>7</td>\n",
              "      <td>0</td>\n",
              "      <td>4</td>\n",
              "      <td>JP Duminy</td>\n",
              "      <td>Dubai International Cricket Stadium</td>\n",
              "      <td>Aleem Dar</td>\n",
              "      <td>VA Kulkarni</td>\n",
              "      <td>NaN</td>\n",
              "    </tr>\n",
              "    <tr>\n",
              "      <th>466</th>\n",
              "      <td>467</td>\n",
              "      <td>2014</td>\n",
              "      <td>NaN</td>\n",
              "      <td>2014-04-23</td>\n",
              "      <td>5</td>\n",
              "      <td>6</td>\n",
              "      <td>6</td>\n",
              "      <td>field</td>\n",
              "      <td>normal</td>\n",
              "      <td>0</td>\n",
              "      <td>5</td>\n",
              "      <td>7</td>\n",
              "      <td>0</td>\n",
              "      <td>RA Jadeja</td>\n",
              "      <td>Dubai International Cricket Stadium</td>\n",
              "      <td>HDPK Dharmasena</td>\n",
              "      <td>RK Illingworth</td>\n",
              "      <td>NaN</td>\n",
              "    </tr>\n",
              "    <tr>\n",
              "      <th>468</th>\n",
              "      <td>469</td>\n",
              "      <td>2014</td>\n",
              "      <td>NaN</td>\n",
              "      <td>2014-04-25</td>\n",
              "      <td>10</td>\n",
              "      <td>7</td>\n",
              "      <td>10</td>\n",
              "      <td>bat</td>\n",
              "      <td>normal</td>\n",
              "      <td>0</td>\n",
              "      <td>10</td>\n",
              "      <td>4</td>\n",
              "      <td>0</td>\n",
              "      <td>AJ Finch</td>\n",
              "      <td>Dubai International Cricket Stadium</td>\n",
              "      <td>M Erasmus</td>\n",
              "      <td>S Ravi</td>\n",
              "      <td>NaN</td>\n",
              "    </tr>\n",
              "    <tr>\n",
              "      <th>469</th>\n",
              "      <td>470</td>\n",
              "      <td>2014</td>\n",
              "      <td>NaN</td>\n",
              "      <td>2014-04-25</td>\n",
              "      <td>1</td>\n",
              "      <td>5</td>\n",
              "      <td>1</td>\n",
              "      <td>bat</td>\n",
              "      <td>normal</td>\n",
              "      <td>0</td>\n",
              "      <td>5</td>\n",
              "      <td>0</td>\n",
              "      <td>7</td>\n",
              "      <td>MM Sharma</td>\n",
              "      <td>Dubai International Cricket Stadium</td>\n",
              "      <td>BF Bowden</td>\n",
              "      <td>M Erasmus</td>\n",
              "      <td>NaN</td>\n",
              "    </tr>\n",
              "    <tr>\n",
              "      <th>474</th>\n",
              "      <td>475</td>\n",
              "      <td>2014</td>\n",
              "      <td>NaN</td>\n",
              "      <td>2014-04-28</td>\n",
              "      <td>3</td>\n",
              "      <td>9</td>\n",
              "      <td>9</td>\n",
              "      <td>field</td>\n",
              "      <td>normal</td>\n",
              "      <td>0</td>\n",
              "      <td>9</td>\n",
              "      <td>0</td>\n",
              "      <td>5</td>\n",
              "      <td>Sandeep Sharma</td>\n",
              "      <td>Dubai International Cricket Stadium</td>\n",
              "      <td>BF Bowden</td>\n",
              "      <td>S Ravi</td>\n",
              "      <td>NaN</td>\n",
              "    </tr>\n",
              "    <tr>\n",
              "      <th>476</th>\n",
              "      <td>477</td>\n",
              "      <td>2014</td>\n",
              "      <td>NaN</td>\n",
              "      <td>2014-04-30</td>\n",
              "      <td>10</td>\n",
              "      <td>1</td>\n",
              "      <td>1</td>\n",
              "      <td>field</td>\n",
              "      <td>normal</td>\n",
              "      <td>0</td>\n",
              "      <td>10</td>\n",
              "      <td>15</td>\n",
              "      <td>0</td>\n",
              "      <td>B Kumar</td>\n",
              "      <td>Dubai International Cricket Stadium</td>\n",
              "      <td>HDPK Dharmasena</td>\n",
              "      <td>M Erasmus</td>\n",
              "      <td>NaN</td>\n",
              "    </tr>\n",
              "  </tbody>\n",
              "</table>\n",
              "</div>"
            ],
            "text/plain": [
              "      id  season city  ...          umpire1         umpire2  umpire3\n",
              "461  462    2014  NaN  ...        Aleem Dar    AK Chaudhary      NaN\n",
              "462  463    2014  NaN  ...        Aleem Dar     VA Kulkarni      NaN\n",
              "466  467    2014  NaN  ...  HDPK Dharmasena  RK Illingworth      NaN\n",
              "468  469    2014  NaN  ...        M Erasmus          S Ravi      NaN\n",
              "469  470    2014  NaN  ...        BF Bowden       M Erasmus      NaN\n",
              "474  475    2014  NaN  ...        BF Bowden          S Ravi      NaN\n",
              "476  477    2014  NaN  ...  HDPK Dharmasena       M Erasmus      NaN\n",
              "\n",
              "[7 rows x 18 columns]"
            ]
          },
          "metadata": {},
          "execution_count": 7
        }
      ]
    },
    {
      "cell_type": "code",
      "metadata": {
        "id": "L52TmKpmmT9h"
      },
      "source": [
        "matches['city'].fillna('Dubai',inplace=True)    #replace the nullvalue in city as Dubai\n"
      ],
      "execution_count": null,
      "outputs": []
    },
    {
      "cell_type": "code",
      "metadata": {
        "id": "Jje_aG4mjUw1",
        "colab": {
          "base_uri": "https://localhost:8080/"
        },
        "outputId": "ab171c52-3925-441f-ec9c-e57eb74d3170"
      },
      "source": [
        "encode = {'team1': {'MI':1,'KKR':2,'RCB':3,'DC':4,'CSK':5,'RR':6,'DD':7,'GL':8,'KXIP':9,'SRH':10,'RPS':11,'KTK':12,'PW':13},\n",
        "          'team2': {'MI':1,'KKR':2,'RCB':3,'DC':4,'CSK':5,'RR':6,'DD':7,'GL':8,'KXIP':9,'SRH':10,'RPS':11,'KTK':12,'PW':13},\n",
        "          'toss_winner': {'MI':1,'KKR':2,'RCB':3,'DC':4,'CSK':5,'RR':6,'DD':7,'GL':8,'KXIP':9,'SRH':10,'RPS':11,'KTK':12,'PW':13},\n",
        "          'winner': {'MI':1,'KKR':2,'RCB':3,'DC':4,'CSK':5,'RR':6,'DD':7,'GL':8,'KXIP':9,'SRH':10,'RPS':11,'KTK':12,'PW':13,'Draw':14}}\n",
        "dicVal = encode['winner']\n",
        "print(dicVal['MI']) #printing the key value of the team\n",
        "print(list(dicVal.keys())[list(dicVal.values()).index(1)])   #to find key by value search "
      ],
      "execution_count": null,
      "outputs": [
        {
          "output_type": "stream",
          "name": "stdout",
          "text": [
            "1\n",
            "MI\n"
          ]
        }
      ]
    },
    {
      "cell_type": "code",
      "metadata": {
        "id": "1mBVDjiRnyol",
        "colab": {
          "base_uri": "https://localhost:8080/",
          "height": 206
        },
        "outputId": "e0ae5d64-cba4-4f93-fd3a-0ffb886784b4"
      },
      "source": [
        "matches = matches[['team1','team2','city','toss_decision','toss_winner','venue','winner']]\n",
        "matches.head()"
      ],
      "execution_count": null,
      "outputs": [
        {
          "output_type": "execute_result",
          "data": {
            "text/html": [
              "<div>\n",
              "<style scoped>\n",
              "    .dataframe tbody tr th:only-of-type {\n",
              "        vertical-align: middle;\n",
              "    }\n",
              "\n",
              "    .dataframe tbody tr th {\n",
              "        vertical-align: top;\n",
              "    }\n",
              "\n",
              "    .dataframe thead th {\n",
              "        text-align: right;\n",
              "    }\n",
              "</style>\n",
              "<table border=\"1\" class=\"dataframe\">\n",
              "  <thead>\n",
              "    <tr style=\"text-align: right;\">\n",
              "      <th></th>\n",
              "      <th>team1</th>\n",
              "      <th>team2</th>\n",
              "      <th>city</th>\n",
              "      <th>toss_decision</th>\n",
              "      <th>toss_winner</th>\n",
              "      <th>venue</th>\n",
              "      <th>winner</th>\n",
              "    </tr>\n",
              "  </thead>\n",
              "  <tbody>\n",
              "    <tr>\n",
              "      <th>0</th>\n",
              "      <td>10</td>\n",
              "      <td>3</td>\n",
              "      <td>Hyderabad</td>\n",
              "      <td>field</td>\n",
              "      <td>3</td>\n",
              "      <td>Rajiv Gandhi International Stadium, Uppal</td>\n",
              "      <td>10</td>\n",
              "    </tr>\n",
              "    <tr>\n",
              "      <th>1</th>\n",
              "      <td>1</td>\n",
              "      <td>11</td>\n",
              "      <td>Pune</td>\n",
              "      <td>field</td>\n",
              "      <td>11</td>\n",
              "      <td>Maharashtra Cricket Association Stadium</td>\n",
              "      <td>11</td>\n",
              "    </tr>\n",
              "    <tr>\n",
              "      <th>2</th>\n",
              "      <td>8</td>\n",
              "      <td>2</td>\n",
              "      <td>Rajkot</td>\n",
              "      <td>field</td>\n",
              "      <td>2</td>\n",
              "      <td>Saurashtra Cricket Association Stadium</td>\n",
              "      <td>2</td>\n",
              "    </tr>\n",
              "    <tr>\n",
              "      <th>3</th>\n",
              "      <td>11</td>\n",
              "      <td>9</td>\n",
              "      <td>Indore</td>\n",
              "      <td>field</td>\n",
              "      <td>9</td>\n",
              "      <td>Holkar Cricket Stadium</td>\n",
              "      <td>9</td>\n",
              "    </tr>\n",
              "    <tr>\n",
              "      <th>4</th>\n",
              "      <td>3</td>\n",
              "      <td>7</td>\n",
              "      <td>Bangalore</td>\n",
              "      <td>bat</td>\n",
              "      <td>3</td>\n",
              "      <td>M Chinnaswamy Stadium</td>\n",
              "      <td>3</td>\n",
              "    </tr>\n",
              "  </tbody>\n",
              "</table>\n",
              "</div>"
            ],
            "text/plain": [
              "   team1  team2  ...                                      venue winner\n",
              "0     10      3  ...  Rajiv Gandhi International Stadium, Uppal     10\n",
              "1      1     11  ...    Maharashtra Cricket Association Stadium     11\n",
              "2      8      2  ...     Saurashtra Cricket Association Stadium      2\n",
              "3     11      9  ...                     Holkar Cricket Stadium      9\n",
              "4      3      7  ...                      M Chinnaswamy Stadium      3\n",
              "\n",
              "[5 rows x 7 columns]"
            ]
          },
          "metadata": {},
          "execution_count": 10
        }
      ]
    },
    {
      "cell_type": "code",
      "metadata": {
        "id": "w5jCQvR7oi54"
      },
      "source": [
        "final = pd.DataFrame(matches)   #creating the final database"
      ],
      "execution_count": null,
      "outputs": []
    },
    {
      "cell_type": "code",
      "metadata": {
        "id": "A3W-0WY5qJfo",
        "colab": {
          "base_uri": "https://localhost:8080/"
        },
        "outputId": "150e03ba-b5a5-4217-a9a9-32a99f051341"
      },
      "source": [
        "tossw=final['toss_winner'].value_counts(sort=True)  #count of toss wins \n",
        "matchw=final['winner'].value_counts(sort=True)   #count of match wins\n",
        "print('No. of toss won by each team')\n",
        "for i, val in tossw.iteritems():\n",
        "   print('{} -> {}'.format(list(dicVal.keys())[list(dicVal.values()).index(i)],val))\n",
        "print('No. of matches won by each team')\n",
        "for i, val in matchw.iteritems():\n",
        "   print('{} -> {}'.format(list(dicVal.keys())[list(dicVal.values()).index(i)],val))"
      ],
      "execution_count": null,
      "outputs": [
        {
          "output_type": "stream",
          "name": "stdout",
          "text": [
            "No. of toss won by each team\n",
            "MI -> 85\n",
            "KKR -> 78\n",
            "DD -> 72\n",
            "RCB -> 70\n",
            "KXIP -> 68\n",
            "CSK -> 66\n",
            "RR -> 63\n",
            "DC -> 43\n",
            "SRH -> 35\n",
            "PW -> 20\n",
            "GL -> 15\n",
            "RPS -> 13\n",
            "KTK -> 8\n",
            "No. of matches won by each team\n",
            "MI -> 92\n",
            "CSK -> 79\n",
            "KKR -> 77\n",
            "RCB -> 73\n",
            "KXIP -> 70\n",
            "RR -> 63\n",
            "DD -> 62\n",
            "SRH -> 42\n",
            "DC -> 29\n",
            "RPS -> 15\n",
            "GL -> 13\n",
            "PW -> 12\n",
            "KTK -> 6\n",
            "Draw -> 3\n"
          ]
        }
      ]
    },
    {
      "cell_type": "code",
      "metadata": {
        "id": "wIdWf9m7r5Sd"
      },
      "source": [
        "final['winner'].hist(bins=42)  #plot of winner column"
      ],
      "execution_count": null,
      "outputs": []
    },
    {
      "cell_type": "code",
      "metadata": {
        "id": "brFFrxLcrsWj"
      },
      "source": [
        "fig = plt.figure(figsize=(10,6))\n",
        "lb1 = fig.add_subplot(121)  #plot of toss winners\n",
        "lb1.set_xlabel('Team')\n",
        "lb1.set_ylabel('Toss won')\n",
        "lb1.set_title(\"TOSS WINNERS\",fontdict= {'family': 'serif',\n",
        "        'color':  'darkred',\n",
        "        'weight': 'normal',\n",
        "        'size': 16})\n",
        "tossw.plot(kind='bar')\n",
        "\n",
        "lb2 = fig.add_subplot(122)   #plot of match winners\n",
        "matchw.plot(kind = 'bar')\n",
        "lb2.set_xlabel('Team')\n",
        "lb2.set_ylabel('Matches won')\n",
        "lb2.set_title(\"MATCH WINNERS\",fontdict= {'family': 'serif',\n",
        "        'color':  'darkred',\n",
        "        'weight': 'normal',\n",
        "        'size': 16})"
      ],
      "execution_count": null,
      "outputs": []
    },
    {
      "cell_type": "code",
      "metadata": {
        "id": "tx1S2r5nwEjf",
        "colab": {
          "base_uri": "https://localhost:8080/"
        },
        "outputId": "1119e7ef-d50f-470c-85c6-27cd5c6e5960"
      },
      "source": [
        " final.apply(lambda x: sum(x.isnull()),axis=0) #null values"
      ],
      "execution_count": null,
      "outputs": [
        {
          "output_type": "execute_result",
          "data": {
            "text/plain": [
              "team1            0\n",
              "team2            0\n",
              "city             0\n",
              "toss_decision    0\n",
              "toss_winner      0\n",
              "venue            0\n",
              "winner           0\n",
              "dtype: int64"
            ]
          },
          "metadata": {},
          "execution_count": 15
        }
      ]
    },
    {
      "cell_type": "code",
      "metadata": {
        "id": "L28SRsgfyLOO",
        "colab": {
          "base_uri": "https://localhost:8080/"
        },
        "outputId": "fd263c49-d703-402d-b97a-d54b2c5a0f35"
      },
      "source": [
        "#to build the predictive model\n",
        "from sklearn.preprocessing import LabelEncoder\n",
        "var_mod = ['city','toss_decision','venue']\n",
        "le = LabelEncoder()\n",
        "for i in var_mod:\n",
        "    final[i] = le.fit_transform(final[i])\n",
        "final.dtypes "
      ],
      "execution_count": null,
      "outputs": [
        {
          "output_type": "execute_result",
          "data": {
            "text/plain": [
              "team1            int64\n",
              "team2            int64\n",
              "city             int64\n",
              "toss_decision    int64\n",
              "toss_winner      int64\n",
              "venue            int64\n",
              "winner           int64\n",
              "dtype: object"
            ]
          },
          "metadata": {},
          "execution_count": 16
        }
      ]
    },
    {
      "cell_type": "code",
      "metadata": {
        "id": "xUYbopi38C-P"
      },
      "source": [
        "#Define function for classification\n",
        "from sklearn.linear_model import LogisticRegression\n",
        "from sklearn.model_selection import KFold   #For K-fold cross validation\n",
        "from sklearn.ensemble import RandomForestClassifier\n",
        "from sklearn.tree import DecisionTreeClassifier, export_graphviz\n",
        "from sklearn import metrics\n",
        "\n",
        "def classification_model(model, data, predictors, outcome):\n",
        "  model.fit(data[predictors],data[outcome])\n",
        "  predictions = model.predict(data[predictors])\n",
        "  accuracy = metrics.accuracy_score(predictions,data[outcome])    #for the accuracy of the model\n",
        "  print('Accuracy : %s' % '{0:.3%}'.format(accuracy))\n",
        "  kf = KFold(n_splits=7)\n",
        "  error = []\n",
        "  for train, test in kf.split(data[predictors]):       #for the Cross validation score of the model\n",
        "    train_predictors = (data[predictors].iloc[train,:])\n",
        "    train_target = data[outcome].iloc[train]\n",
        "    model.fit(train_predictors, train_target)\n",
        "    error.append(model.score(data[predictors].iloc[test,:], data[outcome].iloc[test]))\n",
        " \n",
        "  print('Cross-Validation Score : %s' % '{0:.3%}'.format(np.mean(error)))\n",
        "\n",
        "  model.fit(data[predictors],data[outcome]) "
      ],
      "execution_count": null,
      "outputs": []
    },
    {
      "cell_type": "code",
      "metadata": {
        "id": "ZnmvzNdz_bM8",
        "colab": {
          "base_uri": "https://localhost:8080/"
        },
        "outputId": "42f7c900-ed09-4628-a2e1-1f3497b5589e"
      },
      "source": [
        "#importance of features\n",
        "\n",
        "imp_input = pd.Series(model.feature_importances_, index=predictor_var).sort_values(ascending=False)\n",
        "print(imp_input)\n",
        "\n",
        "#feature importance: If we ignore teams, Venue seems to be one of important factors in determining winners followed by toss winning, city"
      ],
      "execution_count": null,
      "outputs": [
        {
          "output_type": "stream",
          "name": "stdout",
          "text": [
            "team2            0.248846\n",
            "team1            0.223992\n",
            "venue            0.171498\n",
            "toss_winner      0.171141\n",
            "city             0.152383\n",
            "toss_decision    0.032138\n",
            "dtype: float64\n"
          ]
        }
      ]
    },
    {
      "cell_type": "code",
      "metadata": {
        "id": "uePvtr0u_fAu"
      },
      "source": [
        "#toss win vs match win analysis\n",
        "import matplotlib.pyplot as mlt\n",
        "mlt.style.use('fivethirtyeight')\n",
        "final_fil=final[final['toss_winner']==final['winner']]\n",
        "slices=[len(final_fil),(577-len(final_fil))]\n",
        "mlt.pie(slices,labels=['Toss & Match win','Toss Win & Match Lose'],startangle=90,shadow=True,explode=(0,0),autopct='%1.1f%%',colors=['b','r'])\n",
        "fig = mlt.gcf()\n",
        "fig.set_size_inches(6,6)\n",
        "mlt.show()\n",
        "\n",
        "#clearly, not much dependent!"
      ],
      "execution_count": null,
      "outputs": []
    },
    {
      "cell_type": "code",
      "metadata": {
        "id": "N4liHvpn8RT8",
        "colab": {
          "base_uri": "https://localhost:8080/"
        },
        "outputId": "013104bb-9893-439f-cb62-d6a22ba0b241"
      },
      "source": [
        "#Logistic Regression Model\n",
        "\n",
        "outcome_var=['winner']\n",
        "\n",
        "predictor_var = ['team1','team2','toss_winner']\n",
        "\n",
        "model = LogisticRegression(max_iter=1000)\n",
        "classification_model(model, final, predictor_var, outcome_var)"
      ],
      "execution_count": null,
      "outputs": [
        {
          "output_type": "stream",
          "name": "stderr",
          "text": [
            "/usr/local/lib/python3.7/dist-packages/sklearn/utils/validation.py:985: DataConversionWarning:\n",
            "\n",
            "A column-vector y was passed when a 1d array was expected. Please change the shape of y to (n_samples, ), for example using ravel().\n",
            "\n"
          ]
        },
        {
          "output_type": "stream",
          "name": "stdout",
          "text": [
            "Accuracy : 24.686%\n"
          ]
        },
        {
          "output_type": "stream",
          "name": "stderr",
          "text": [
            "/usr/local/lib/python3.7/dist-packages/sklearn/utils/validation.py:985: DataConversionWarning:\n",
            "\n",
            "A column-vector y was passed when a 1d array was expected. Please change the shape of y to (n_samples, ), for example using ravel().\n",
            "\n",
            "/usr/local/lib/python3.7/dist-packages/sklearn/utils/validation.py:985: DataConversionWarning:\n",
            "\n",
            "A column-vector y was passed when a 1d array was expected. Please change the shape of y to (n_samples, ), for example using ravel().\n",
            "\n",
            "/usr/local/lib/python3.7/dist-packages/sklearn/utils/validation.py:985: DataConversionWarning:\n",
            "\n",
            "A column-vector y was passed when a 1d array was expected. Please change the shape of y to (n_samples, ), for example using ravel().\n",
            "\n",
            "/usr/local/lib/python3.7/dist-packages/sklearn/utils/validation.py:985: DataConversionWarning:\n",
            "\n",
            "A column-vector y was passed when a 1d array was expected. Please change the shape of y to (n_samples, ), for example using ravel().\n",
            "\n",
            "/usr/local/lib/python3.7/dist-packages/sklearn/utils/validation.py:985: DataConversionWarning:\n",
            "\n",
            "A column-vector y was passed when a 1d array was expected. Please change the shape of y to (n_samples, ), for example using ravel().\n",
            "\n",
            "/usr/local/lib/python3.7/dist-packages/sklearn/utils/validation.py:985: DataConversionWarning:\n",
            "\n",
            "A column-vector y was passed when a 1d array was expected. Please change the shape of y to (n_samples, ), for example using ravel().\n",
            "\n",
            "/usr/local/lib/python3.7/dist-packages/sklearn/utils/validation.py:985: DataConversionWarning:\n",
            "\n",
            "A column-vector y was passed when a 1d array was expected. Please change the shape of y to (n_samples, ), for example using ravel().\n",
            "\n"
          ]
        },
        {
          "output_type": "stream",
          "name": "stdout",
          "text": [
            "Cross-Validation Score : 22.482%\n"
          ]
        },
        {
          "output_type": "stream",
          "name": "stderr",
          "text": [
            "/usr/local/lib/python3.7/dist-packages/sklearn/utils/validation.py:985: DataConversionWarning:\n",
            "\n",
            "A column-vector y was passed when a 1d array was expected. Please change the shape of y to (n_samples, ), for example using ravel().\n",
            "\n"
          ]
        }
      ]
    },
    {
      "cell_type": "code",
      "metadata": {
        "id": "VeuIP8tc-9ch",
        "colab": {
          "base_uri": "https://localhost:8080/"
        },
        "outputId": "c5ea4b10-86a6-424c-8bd0-882499f6a19c"
      },
      "source": [
        "#Random Forest Classifier\n",
        "\n",
        "model = RandomForestClassifier(n_estimators=100)\n",
        "outcome_var = ['winner']\n",
        "predictor_var = ['team1', 'team2', 'venue', 'toss_winner','city','toss_decision']\n",
        "classification_model(model, final,predictor_var,outcome_var)"
      ],
      "execution_count": null,
      "outputs": [
        {
          "output_type": "stream",
          "name": "stderr",
          "text": [
            "/usr/local/lib/python3.7/dist-packages/ipykernel_launcher.py:9: DataConversionWarning:\n",
            "\n",
            "A column-vector y was passed when a 1d array was expected. Please change the shape of y to (n_samples,), for example using ravel().\n",
            "\n"
          ]
        },
        {
          "output_type": "stream",
          "name": "stdout",
          "text": [
            "Accuracy : 89.151%\n"
          ]
        },
        {
          "output_type": "stream",
          "name": "stderr",
          "text": [
            "/usr/local/lib/python3.7/dist-packages/ipykernel_launcher.py:18: DataConversionWarning:\n",
            "\n",
            "A column-vector y was passed when a 1d array was expected. Please change the shape of y to (n_samples,), for example using ravel().\n",
            "\n",
            "/usr/local/lib/python3.7/dist-packages/ipykernel_launcher.py:18: DataConversionWarning:\n",
            "\n",
            "A column-vector y was passed when a 1d array was expected. Please change the shape of y to (n_samples,), for example using ravel().\n",
            "\n",
            "/usr/local/lib/python3.7/dist-packages/ipykernel_launcher.py:18: DataConversionWarning:\n",
            "\n",
            "A column-vector y was passed when a 1d array was expected. Please change the shape of y to (n_samples,), for example using ravel().\n",
            "\n",
            "/usr/local/lib/python3.7/dist-packages/ipykernel_launcher.py:18: DataConversionWarning:\n",
            "\n",
            "A column-vector y was passed when a 1d array was expected. Please change the shape of y to (n_samples,), for example using ravel().\n",
            "\n",
            "/usr/local/lib/python3.7/dist-packages/ipykernel_launcher.py:18: DataConversionWarning:\n",
            "\n",
            "A column-vector y was passed when a 1d array was expected. Please change the shape of y to (n_samples,), for example using ravel().\n",
            "\n",
            "/usr/local/lib/python3.7/dist-packages/ipykernel_launcher.py:18: DataConversionWarning:\n",
            "\n",
            "A column-vector y was passed when a 1d array was expected. Please change the shape of y to (n_samples,), for example using ravel().\n",
            "\n",
            "/usr/local/lib/python3.7/dist-packages/ipykernel_launcher.py:18: DataConversionWarning:\n",
            "\n",
            "A column-vector y was passed when a 1d array was expected. Please change the shape of y to (n_samples,), for example using ravel().\n",
            "\n"
          ]
        },
        {
          "output_type": "stream",
          "name": "stdout",
          "text": [
            "Cross-Validation Score : 48.594%\n"
          ]
        },
        {
          "output_type": "stream",
          "name": "stderr",
          "text": [
            "/usr/local/lib/python3.7/dist-packages/ipykernel_launcher.py:23: DataConversionWarning:\n",
            "\n",
            "A column-vector y was passed when a 1d array was expected. Please change the shape of y to (n_samples,), for example using ravel().\n",
            "\n"
          ]
        }
      ]
    },
    {
      "cell_type": "code",
      "metadata": {
        "colab": {
          "base_uri": "https://localhost:8080/"
        },
        "id": "R9a_nYQ5WjlX",
        "outputId": "0868d919-0113-4cce-cdc4-3e7adc0793b1"
      },
      "source": [
        "#SVM\n",
        "\n",
        "from sklearn.svm import SVC\n",
        "model = SVC()\n",
        "outcome_var = ['winner']\n",
        "predictor_var = ['team1', 'team2', 'venue', 'toss_winner','city','toss_decision']\n",
        "classification_model(model, final,predictor_var,outcome_var)"
      ],
      "execution_count": null,
      "outputs": [
        {
          "output_type": "stream",
          "name": "stderr",
          "text": [
            "/usr/local/lib/python3.7/dist-packages/sklearn/utils/validation.py:985: DataConversionWarning:\n",
            "\n",
            "A column-vector y was passed when a 1d array was expected. Please change the shape of y to (n_samples, ), for example using ravel().\n",
            "\n",
            "/usr/local/lib/python3.7/dist-packages/sklearn/utils/validation.py:985: DataConversionWarning:\n",
            "\n",
            "A column-vector y was passed when a 1d array was expected. Please change the shape of y to (n_samples, ), for example using ravel().\n",
            "\n",
            "/usr/local/lib/python3.7/dist-packages/sklearn/utils/validation.py:985: DataConversionWarning:\n",
            "\n",
            "A column-vector y was passed when a 1d array was expected. Please change the shape of y to (n_samples, ), for example using ravel().\n",
            "\n",
            "/usr/local/lib/python3.7/dist-packages/sklearn/utils/validation.py:985: DataConversionWarning:\n",
            "\n",
            "A column-vector y was passed when a 1d array was expected. Please change the shape of y to (n_samples, ), for example using ravel().\n",
            "\n"
          ]
        },
        {
          "output_type": "stream",
          "name": "stdout",
          "text": [
            "Accuracy : 40.723%\n"
          ]
        },
        {
          "output_type": "stream",
          "name": "stderr",
          "text": [
            "/usr/local/lib/python3.7/dist-packages/sklearn/utils/validation.py:985: DataConversionWarning:\n",
            "\n",
            "A column-vector y was passed when a 1d array was expected. Please change the shape of y to (n_samples, ), for example using ravel().\n",
            "\n",
            "/usr/local/lib/python3.7/dist-packages/sklearn/utils/validation.py:985: DataConversionWarning:\n",
            "\n",
            "A column-vector y was passed when a 1d array was expected. Please change the shape of y to (n_samples, ), for example using ravel().\n",
            "\n",
            "/usr/local/lib/python3.7/dist-packages/sklearn/utils/validation.py:985: DataConversionWarning:\n",
            "\n",
            "A column-vector y was passed when a 1d array was expected. Please change the shape of y to (n_samples, ), for example using ravel().\n",
            "\n",
            "/usr/local/lib/python3.7/dist-packages/sklearn/utils/validation.py:985: DataConversionWarning:\n",
            "\n",
            "A column-vector y was passed when a 1d array was expected. Please change the shape of y to (n_samples, ), for example using ravel().\n",
            "\n",
            "/usr/local/lib/python3.7/dist-packages/sklearn/utils/validation.py:985: DataConversionWarning:\n",
            "\n",
            "A column-vector y was passed when a 1d array was expected. Please change the shape of y to (n_samples, ), for example using ravel().\n",
            "\n"
          ]
        },
        {
          "output_type": "stream",
          "name": "stdout",
          "text": [
            "Cross-Validation Score : 34.425%\n"
          ]
        }
      ]
    },
    {
      "cell_type": "code",
      "metadata": {
        "colab": {
          "base_uri": "https://localhost:8080/"
        },
        "id": "do99Y808YU6h",
        "outputId": "4bb22d00-80bf-474b-fd31-f42dea0736be"
      },
      "source": [
        "#Decision Tree Classifier Model\n",
        "from sklearn.tree import DecisionTreeClassifier\n",
        "\n",
        "model = DecisionTreeClassifier()\n",
        "outcome_var = ['winner']\n",
        "predictor_var = ['team1', 'team2', 'venue','toss_winner']\n",
        "classification_model(model, final,predictor_var,outcome_var)"
      ],
      "execution_count": null,
      "outputs": [
        {
          "output_type": "stream",
          "name": "stdout",
          "text": [
            "Accuracy : 89.151%\n",
            "Cross-Validation Score : 50.492%\n"
          ]
        }
      ]
    },
    {
      "cell_type": "code",
      "metadata": {
        "id": "Sj2E2Jzf_NKI",
        "colab": {
          "base_uri": "https://localhost:8080/"
        },
        "outputId": "5d358615-372a-4c7e-e531-2420eede9b50"
      },
      "source": [
        "#predicting\n",
        "\n",
        "team1='RCB'\n",
        "team2='KKR'\n",
        "toss_winner='RCB'\n",
        "input=[dicVal[team1],dicVal[team2],'14',dicVal[toss_winner]]\n",
        "input = np.array(input).reshape((1, -1))\n",
        "output=model.predict(input)    #key of the winner\n",
        "print(list(dicVal.keys())[list(dicVal.values()).index(output)]) #find key by value search output"
      ],
      "execution_count": null,
      "outputs": [
        {
          "output_type": "stream",
          "name": "stdout",
          "text": [
            "KKR\n"
          ]
        },
        {
          "output_type": "stream",
          "name": "stderr",
          "text": [
            "/usr/local/lib/python3.7/dist-packages/sklearn/base.py:446: UserWarning:\n",
            "\n",
            "X does not have valid feature names, but DecisionTreeClassifier was fitted with feature names\n",
            "\n"
          ]
        }
      ]
    },
    {
      "cell_type": "code",
      "metadata": {
        "id": "PqUOjF1l_UpJ",
        "colab": {
          "base_uri": "https://localhost:8080/"
        },
        "outputId": "3b740760-5fc0-4ea2-8659-5f22f248331c"
      },
      "source": [
        "#predicting\n",
        "\n",
        "team1='DC'\n",
        "team2='DD'\n",
        "toss_winner='DC'\n",
        "input=[dicVal[team1],dicVal[team2],'23',dicVal[toss_winner]]\n",
        "input = np.array(input).reshape((1, -1))\n",
        "output=model.predict(input)    #key of the winner\n",
        "print(list(dicVal.keys())[list(dicVal.values()).index(output)]) #find key by value search output"
      ],
      "execution_count": null,
      "outputs": [
        {
          "output_type": "stream",
          "name": "stdout",
          "text": [
            "DD\n"
          ]
        },
        {
          "output_type": "stream",
          "name": "stderr",
          "text": [
            "/usr/local/lib/python3.7/dist-packages/sklearn/base.py:446: UserWarning:\n",
            "\n",
            "X does not have valid feature names, but DecisionTreeClassifier was fitted with feature names\n",
            "\n"
          ]
        }
      ]
    }
  ]
}